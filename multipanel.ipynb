{
 "cells": [
  {
   "cell_type": "code",
   "execution_count": null,
   "id": "d28b3463-4e2c-4517-adfd-f66d16b3f142",
   "metadata": {},
   "outputs": [],
   "source": [
    "import numpy as np\n",
    "import matplotlib\n",
    "import matplotlib.pyplot as plt\n",
    "import scipy\n",
    "import yt\n",
    "import unyt\n",
    "import tqdm\n",
    "import pandas as pd\n",
    "import trident as tr\n",
    "from trident.absorption_spectrum.absorption_line import tau_profile\n",
    "from linetools.lists.linelist import LineList"
   ]
  },
  {
   "cell_type": "code",
   "execution_count": null,
   "id": "a17f8eb3-f73b-4474-9e9c-da22a3ea4baa",
   "metadata": {},
   "outputs": [],
   "source": [
    "from linetools.analysis import absline\n",
    "import astropy.units as u"
   ]
  },
  {
   "cell_type": "code",
   "execution_count": null,
   "id": "809e3d86-514e-43c1-9a2a-311eed711551",
   "metadata": {},
   "outputs": [],
   "source": [
    "import verdict"
   ]
  },
  {
   "cell_type": "markdown",
   "id": "298772bb-ea92-43cf-b713-0b346d5a7a76",
   "metadata": {},
   "source": [
    "# Parameters"
   ]
  },
  {
   "cell_type": "code",
   "execution_count": null,
   "id": "ba382492-27ca-427f-ad7c-fe6fdb3a6d50",
   "metadata": {},
   "outputs": [],
   "source": [
    "image_data_fp = './images.h5'\n",
    "\n",
    "# Plotting choices\n",
    "n_col=2\n",
    "scalebar_size = 1\n",
    "plot_all = False\n",
    "selected = [ 'm12z_md:ys-16to-6_zs-15to-5', 'm12z_md:ys-20to-10_zs20to30', 'm12i_md:ys-20to-4_zs5to13', ]\n",
    "mosaic = [\n",
    "    [ 'm12z_md:ys-16to-6_zs-15to-5', 'm12z_md:ys-20to-10_zs20to30', ],\n",
    "    [ 'm12i_md:ys-20to-4_zs5to13', 'm12i_md:ys-20to-4_zs5to13', ],\n",
    "]\n",
    "\n",
    "# Obs choices\n",
    "EW_min = 0.01\n",
    "EW_max = 1.0\n",
    "b_default = 30. # In km/s\n",
    "angular_resolution = 1 # In units of arcmin"
   ]
  },
  {
   "cell_type": "code",
   "execution_count": null,
   "id": "27578329-f24f-4a92-8522-7a77bca9076e",
   "metadata": {},
   "outputs": [],
   "source": [
    "# Presentation\n",
    "figure_width = 3.376 # Default figure width in inches; MNRAS column width\n",
    "max_figure_height = 9.437 # Text height for MNRAS\n",
    "large_fontsize = 14.4\n",
    "normal_fontsize = 12\n",
    "small_fontsize = 10.95\n",
    "\n",
    "cmap = 'cubehelix'"
   ]
  },
  {
   "cell_type": "markdown",
   "id": "8b93fce9-53df-4b66-afa2-5b5e7c299ffc",
   "metadata": {},
   "source": [
    "# Load Data"
   ]
  },
  {
   "cell_type": "code",
   "execution_count": null,
   "id": "e036ce31-065c-4afc-b513-bcf6b7a1be10",
   "metadata": {},
   "outputs": [],
   "source": [
    "d = verdict.Dict.from_hdf5( image_data_fp )"
   ]
  },
  {
   "cell_type": "markdown",
   "id": "514458d3-3537-4c1e-ac7c-91193a74f4e1",
   "metadata": {},
   "source": [
    "# Plot"
   ]
  },
  {
   "cell_type": "markdown",
   "id": "29424f4a-0188-4963-a429-e17c8ac47392",
   "metadata": {},
   "source": [
    "## Setup"
   ]
  },
  {
   "cell_type": "code",
   "execution_count": null,
   "id": "3355d074-8675-4406-b483-160f0c295da3",
   "metadata": {},
   "outputs": [],
   "source": [
    "from mpl_toolkits.axes_grid1 import make_axes_locatable\n",
    "from mpl_toolkits.axes_grid1.anchored_artists import AnchoredSizeBar\n",
    "import matplotlib.font_manager as fm\n",
    "import matplotlib.patheffects as path_effects"
   ]
  },
  {
   "cell_type": "code",
   "execution_count": null,
   "id": "05f292ff-a372-4443-af5f-992eec58971a",
   "metadata": {},
   "outputs": [],
   "source": [
    "norm = matplotlib.colors.LogNorm( vmin=EW_min, vmax=EW_max )"
   ]
  },
  {
   "cell_type": "code",
   "execution_count": null,
   "id": "2bd2f3d0-91f5-486d-93e6-75802ba431b8",
   "metadata": {},
   "outputs": [],
   "source": [
    "fontproperties = fm.FontProperties( size=normal_fontsize, weight='bold' )"
   ]
  },
  {
   "cell_type": "markdown",
   "id": "c6505835-3acd-4b21-96d0-74968289d794",
   "metadata": {},
   "source": [
    "## Generate Plot"
   ]
  },
  {
   "cell_type": "code",
   "execution_count": null,
   "id": "5223c049-6791-4359-8a98-20481c207970",
   "metadata": {
    "tags": []
   },
   "outputs": [],
   "source": [
    "## Set up mosaic\n",
    "image_keys = []\n",
    "image_keys_row = []\n",
    "for sim_key, sim_images in d.items():\n",
    "    for image_key, image_values in sim_images.items():\n",
    "        image_keys_row.append( sim_key + ':' + image_key )\n",
    "        if len( image_keys_row ) >= n_col:\n",
    "            image_keys.append( image_keys_row )\n",
    "            image_keys_row = []"
   ]
  },
  {
   "cell_type": "code",
   "execution_count": null,
   "id": "ed2e3261-3d9c-4b77-889b-bd677a5e302b",
   "metadata": {},
   "outputs": [],
   "source": [
    "# Pad out remaining mosaic\n",
    "if len( image_keys_row ) > 0:\n",
    "    fill_list = [ 'empty', ] * ( n_col - len( image_keys_row ) )\n",
    "    image_keys_row += fill_list\n",
    "    image_keys.append( image_keys_row )"
   ]
  },
  {
   "cell_type": "code",
   "execution_count": null,
   "id": "8b892c4a-8614-4087-b0bf-9b3366310efc",
   "metadata": {},
   "outputs": [],
   "source": [
    "if plot_all:\n",
    "    selected = np.hstack( image_keys )\n",
    "    mosaic = image_keys"
   ]
  },
  {
   "cell_type": "code",
   "execution_count": null,
   "id": "34becfd1-0a7e-41aa-97ab-e5808ba8a0cd",
   "metadata": {},
   "outputs": [],
   "source": [
    "# Projected\n",
    "n_row = len( mosaic )\n",
    "fig = plt.figure(figsize=(figure_width*n_col,figure_width*n_row), facecolor='w')\n",
    "main_ax = plt.gca()\n",
    "main_ax.set_axis_off()\n",
    "axs = fig.subplot_mosaic(\n",
    "    mosaic = mosaic,\n",
    "    gridspec_kw = { 'wspace': 0.03, 'hspace': 0.03 },\n",
    ")\n",
    "\n",
    "for img_key in selected:\n",
    "    ax = axs[img_key]\n",
    "    \n",
    "    if img_key == 'empty':\n",
    "        continue\n",
    "        \n",
    "    sim_key, image_key = img_key.split( ':' )\n",
    "    image_values = d[sim_key][image_key]['zoom']\n",
    "        \n",
    "    # Full image\n",
    "    image = ax.pcolormesh(\n",
    "        image_values['ys'],\n",
    "        image_values['zs'],\n",
    "        np.rot90( image_values['img_arr'], k=-1 ),\n",
    "        norm = norm,\n",
    "        cmap = cmap,\n",
    "    )\n",
    "    \n",
    "for ax_key, ax in axs.items():\n",
    "    \n",
    "    # Tick marks\n",
    "    ax.tick_params( left=False, labelleft=False, bottom=False, labelbottom=False )\n",
    "    \n",
    "    # Aspect ratio\n",
    "    ax.set_aspect( 'equal' )\n",
    "    \n",
    "    # Scalebar\n",
    "    scalebar = AnchoredSizeBar(\n",
    "        ax.transData,\n",
    "        scalebar_size,\n",
    "        '{} kpc'.format( scalebar_size ),\n",
    "        loc = 'lower left',\n",
    "        pad=0.5,\n",
    "        color='w',\n",
    "        frameon=False,\n",
    "        size_vertical = scalebar_size / 10,\n",
    "        fontproperties = fontproperties,\n",
    "    )\n",
    "    \n",
    "    ax.add_artist( scalebar )\n",
    "    \n",
    "# Add colorbar\n",
    "divider = make_axes_locatable( axs[mosaic[-1][-1]] )\n",
    "cax = divider.append_axes(\"right\", size=\"5%\", pad='1%')\n",
    "plt.colorbar( image, cax=cax )\n",
    "\n",
    "cax.set_yticklabels( [ '', 0.01, 0.1, 1 ] ) \n",
    "cax.tick_params( labelsize=normal_fontsize, size=5 )\n",
    "\n",
    "# Add annotation\n",
    "cax.annotate(\n",
    "    text = 'Na I EW [$\\AA$]',\n",
    "    xy = ( 1, 0 ),\n",
    "    xycoords = 'axes fraction',\n",
    "    xytext = ( 0, -5 ),\n",
    "    textcoords = 'offset points',\n",
    "    ha = 'right',\n",
    "    va = 'top',\n",
    "    fontsize = normal_fontsize,\n",
    ")"
   ]
  },
  {
   "cell_type": "code",
   "execution_count": null,
   "id": "a5a8828b-e3ff-4031-b180-fe781bc82cb7",
   "metadata": {},
   "outputs": [],
   "source": [
    "save_fp = './visuals_pngs/multipanel.png'\n",
    "fig.savefig( save_fp, dpi=300, bbox_inches='tight' )"
   ]
  },
  {
   "cell_type": "code",
   "execution_count": null,
   "id": "1722d8d3-4f82-4aa6-8a78-1198e6a0b897",
   "metadata": {},
   "outputs": [],
   "source": []
  }
 ],
 "metadata": {
  "kernelspec": {
   "display_name": "Python 3 (ipykernel)",
   "language": "python",
   "name": "python3"
  },
  "language_info": {
   "codemirror_mode": {
    "name": "ipython",
    "version": 3
   },
   "file_extension": ".py",
   "mimetype": "text/x-python",
   "name": "python",
   "nbconvert_exporter": "python",
   "pygments_lexer": "ipython3",
   "version": "3.10.8"
  }
 },
 "nbformat": 4,
 "nbformat_minor": 5
}
