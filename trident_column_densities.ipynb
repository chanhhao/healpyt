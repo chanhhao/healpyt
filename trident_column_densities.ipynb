{
 "cells": [
  {
   "cell_type": "markdown",
   "id": "0c36fc05",
   "metadata": {},
   "source": [
    "# Set Up"
   ]
  },
  {
   "cell_type": "code",
   "execution_count": 1,
   "id": "8fac152a",
   "metadata": {},
   "outputs": [],
   "source": [
    "import numpy as np\n",
    "import matplotlib\n",
    "import matplotlib.pyplot as plt\n",
    "import scipy\n",
    "import yt\n",
    "import tqdm\n",
    "import pandas as pd\n",
    "import trident as tr\n",
    "from trident.absorption_spectrum.absorption_line import tau_profile\n",
    "from linetools.lists.linelist import LineList"
   ]
  },
  {
   "cell_type": "code",
   "execution_count": 2,
   "id": "36ec2401-d6c1-4f0d-bd19-a8fe47a04836",
   "metadata": {},
   "outputs": [],
   "source": [
    "from linetools.analysis import absline\n",
    "import astropy.units as u"
   ]
  },
  {
   "cell_type": "markdown",
   "id": "b96a07eb-a747-4464-aa80-324f52ed9983",
   "metadata": {},
   "source": [
    "# Parameters"
   ]
  },
  {
   "cell_type": "code",
   "execution_count": null,
   "id": "c420ca17-e4be-456a-9147-0dba3f291a47",
   "metadata": {},
   "outputs": [],
   "source": [
    "# Location of the target snapshot\n",
    "simulation_fp = '/Users/zhafen/data/fire/fire2/metal_diffusion/m12i_res57000/output/snapshot_600.hdf5'\n",
    "\n",
    "# Location of the halo file if provided. If use_halo_file == False then the center will be found automatically.\n",
    "use_halo_file = True\n",
    "halo_catalog_fp = '/Users/zhafen/data/fire/fire2/metal_diffusion/m12i_res57000/halo/rockstar_dm/catalog_hdf5/halo_600.hdf5'\n",
    "\n",
    "# Projection choices\n",
    "proj_halfwidth_kpc = 10. # Halfwidth in units of kpc\n",
    "proj_xrange_halfwidth = np.array([ 0.5, 0.5 ]) # Slice location in units of halfwidth\n",
    "default_resolution = 100 # Points per side\n",
    "\n",
    "# Location and width of inset in kpc\n",
    "zoom_yrange_kpc = np.array([ 0., 1. ])\n",
    "zoom_zrange_kpc = np.array([ 0., 1. ])\n",
    "\n",
    "# Obs choices\n",
    "EW_min = 0.01\n",
    "b_default = 30. # In km/s"
   ]
  },
  {
   "cell_type": "markdown",
   "id": "a20f4a75-0a0f-4d41-bac1-00acce0e3186",
   "metadata": {},
   "source": [
    "# Load Data"
   ]
  },
  {
   "cell_type": "code",
   "execution_count": null,
   "id": "00c857b0",
   "metadata": {},
   "outputs": [],
   "source": [
    "np.set_printoptions(precision=20)"
   ]
  },
  {
   "cell_type": "code",
   "execution_count": null,
   "id": "8212f83a",
   "metadata": {},
   "outputs": [],
   "source": [
    "ds = yt.load( simulation_fp )"
   ]
  },
  {
   "cell_type": "code",
   "execution_count": null,
   "id": "f0dbd5e4",
   "metadata": {},
   "outputs": [],
   "source": [
    "data = ds.all_data()"
   ]
  },
  {
   "cell_type": "code",
   "execution_count": null,
   "id": "1c8ddfec",
   "metadata": {},
   "outputs": [],
   "source": [
    "tr.add_ion_fields( ds, ions=['O VI','C IV', 'Si II', 'Mg II','Na I'],)"
   ]
  },
  {
   "cell_type": "markdown",
   "id": "54ee4003",
   "metadata": {},
   "source": [
    "## The Center of Galaxy Using Halo Data"
   ]
  },
  {
   "cell_type": "code",
   "execution_count": null,
   "id": "22781218-181f-4c21-832c-0570d503d290",
   "metadata": {},
   "outputs": [],
   "source": [
    "kpc = ds.quan( 1, 'kpc' )"
   ]
  },
  {
   "cell_type": "code",
   "execution_count": null,
   "id": "bb1b42a3",
   "metadata": {},
   "outputs": [],
   "source": [
    "if use_halo_file:\n",
    "    import h5py\n",
    "    f = h5py.File( halo_catalog_fp, 'r' ) #f is a dictionary, so you can do f.keys()\n",
    "    index = f['mass'][...].argmax() \n",
    "\n",
    "    #... means indexing all of it, because HDF5 doesn't show you everything unless you ask for it\n",
    "    #.argmax() gets the index of maximum.\n",
    "    #maximum mass is center because host galaxy is the one in the center so it should have the most mass.\n",
    "\n",
    "    center_ckpc = f['position'][...][index]\n",
    "    #the actual code to bring it to modern day, getting physical distance, is below. \n",
    "    #not used because error but f[redshift] is 0 so it's basically center_ckpc\n",
    "\n",
    "    center = center_ckpc / ( 1. + f['snapshot:redshift'][...] )\n",
    "\n",
    "    center_kpc=center*kpc\n",
    "else:\n",
    "    print( 'Finding center using maximum density' )\n",
    "    _, center = ds.find_max( ('gas', 'density') )\n",
    "    center_kpc = center.to( 'kpc' )"
   ]
  },
  {
   "cell_type": "markdown",
   "id": "afb7edd1",
   "metadata": {},
   "source": [
    "## Making the Sun the Origin Using Vector Math"
   ]
  },
  {
   "cell_type": "code",
   "execution_count": null,
   "id": "aa2d7955",
   "metadata": {},
   "outputs": [],
   "source": [
    "gas_coordinates = (data[('PartType0', 'Coordinates')]).in_units(\"kpc\")"
   ]
  },
  {
   "cell_type": "markdown",
   "id": "025767ea",
   "metadata": {},
   "source": [
    "### First need to filter out really far star particles that are not in the galaxy"
   ]
  },
  {
   "cell_type": "code",
   "execution_count": null,
   "id": "92f48eae",
   "metadata": {},
   "outputs": [],
   "source": [
    "#apply distance formula from each star coordinate to the center. if <150 kpc, it is within a good range.\n",
    "distance_to_center=np.sqrt( (gas_coordinates[:,0]-center_kpc[0] )**2 + (gas_coordinates[:,1]-center_kpc[1])**2 +(gas_coordinates[:,2]-center_kpc[2])**2 )\n",
    "\n",
    "within_range = distance_to_center < (150.*kpc)\n",
    "galaxy_gas = gas_coordinates[within_range]\n"
   ]
  },
  {
   "cell_type": "markdown",
   "id": "418fb5f3",
   "metadata": {},
   "source": [
    "### Then do vector math, applying refined list of star coordinates"
   ]
  },
  {
   "cell_type": "code",
   "execution_count": null,
   "id": "3a2fdb77",
   "metadata": {},
   "outputs": [],
   "source": [
    "# Get dataset units\n",
    "kpc = ds.quan( 1, 'kpc' )\n",
    "\n",
    "# Calculate the angular momentum (extracting a sphere around the galaxy first for it).\n",
    "# `center` is the center of the galaxy in kpc.\n",
    "sp = ds.sphere( center_kpc , (10, \"kpc\")) #10 is radius\n",
    "jtot = sp.quantities.angular_momentum_vector( particle_type='PartType0' ).to( 'kpc * km / s' ).value\n",
    "\n",
    "# Unit vectors for a frame w/ zhat aligned with the total angular momentum\n",
    "zhat = jtot / np.linalg.norm( jtot ) #basically getting the unit vector by dividing jtot vector by its magnitude\n",
    "\n",
    "#cross product of zhat and some vector to get a vector that's perpendicular to zhat (along galaxy disk):\n",
    "xhat = np.cross( [ 1, 0, 0 ], zhat )\n",
    "xhat /= np.linalg.norm( xhat )\n",
    "\n",
    "# Sun position in simulation coordinates -> 8 kpc from center at an arbitrary angle\n",
    "sun_position = center_kpc + (8. * xhat * kpc)\n",
    "\n",
    "# Unit vectors for on-sky coordinate system.\n",
    "# xskyhat points from the sun to the center of the galaxy.\n",
    "# zskyhat points parallel to the axis of total angular momentum.\n",
    "# yskyhat (should) point to the left on a sky map.\n",
    "xskyhat = -xhat\n",
    "zskyhat = zhat\n",
    "yskyhat = np.cross( zskyhat, xskyhat )\n",
    "\n",
    "# Given a series of positions (the undefined vector)\n",
    "# shift them over, i.e. make a new frame centered on the sun.\n",
    "positions_sun = galaxy_gas - sun_position\n",
    "\n",
    "# And now rotate them to the sky frame\n",
    "positions_sky = np.array([\n",
    "    np.dot( positions_sun, xskyhat ), # Check the axis argument, this may not be right\n",
    "    np.dot( positions_sun, yskyhat ),\n",
    "    np.dot( positions_sun, zskyhat ),\n",
    "    ]).transpose()"
   ]
  },
  {
   "cell_type": "markdown",
   "id": "57a0da25",
   "metadata": {},
   "source": [
    "# Generate Images"
   ]
  },
  {
   "cell_type": "markdown",
   "id": "d9af0dac-16aa-42b3-bdc2-6edfcac6c9e7",
   "metadata": {},
   "source": [
    "## General Function"
   ]
  },
  {
   "cell_type": "code",
   "execution_count": null,
   "id": "1e3f7efa-02b4-4720-b023-9957ee9389ab",
   "metadata": {},
   "outputs": [],
   "source": [
    "yrange_full_proj_kpc = np.array([ -1, 1 ]) * proj_halfwidth_kpc\n",
    "zrange_full_proj_kpc = np.array([ -1, 1 ]) * proj_halfwidth_kpc"
   ]
  },
  {
   "cell_type": "code",
   "execution_count": null,
   "id": "159be25d-442f-40b4-86f0-c50d594dee6c",
   "metadata": {},
   "outputs": [],
   "source": [
    "def get_image( field, yrange_kpc=yrange_full_proj_kpc, zrange_kpc=zrange_full_proj_kpc ):\n",
    "    \n",
    "    # Convert ranges to unyt\n",
    "    yrange = yrange_kpc * kpc\n",
    "    zrange = zrange_kpc * kpc\n",
    "    proj_halfwidth = proj_halfwidth_kpc * kpc\n",
    "    proj_xrange = proj_xrange_halfwidth * proj_halfwidth\n",
    "    \n",
    "    # Get width/depth\n",
    "    proj_ywidth = yrange[1] - yrange[0]\n",
    "    proj_zwidth = zrange[1] - zrange[0]\n",
    "    proj_depth = proj_xrange[1] - proj_xrange[0]\n",
    "\n",
    "    # Recenter\n",
    "    new_center = (\n",
    "        sp.center\n",
    "        + xskyhat * 0.5 * ( proj_xrange[0] + proj_xrange[1] )\n",
    "        + yskyhat * 0.5 * ( yrange[0] + yrange[1] )\n",
    "        + zskyhat * 0.5 * ( zrange[0] + zrange[1] )\n",
    "    )\n",
    "    \n",
    "    image = yt.off_axis_projection(\n",
    "        ds,\n",
    "        normal_vector = xhat,\n",
    "        item = field,\n",
    "        width = np.array([ proj_ywidth, proj_zwidth, proj_depth ]),\n",
    "        center = new_center,\n",
    "        north_vector = zhat,\n",
    "        resolution = (default_resolution, default_resolution),\n",
    "    )\n",
    "    \n",
    "    return image"
   ]
  },
  {
   "cell_type": "markdown",
   "id": "875a3292-25a5-47ac-a519-e1279b2b89c7",
   "metadata": {},
   "source": [
    "## Loop to get images"
   ]
  },
  {
   "cell_type": "code",
   "execution_count": null,
   "id": "9a57a4bc-9d84-4a5b-aaad-3217a5505df7",
   "metadata": {},
   "outputs": [],
   "source": [
    "fields = [ ( 'gas', 'density' ), 'Na_p0_number_density' ]\n",
    "field_units = [ 'Msun/kpc**2', 'cm**-2' ]"
   ]
  },
  {
   "cell_type": "code",
   "execution_count": null,
   "id": "b42ef82a-3071-48f4-bc82-e11be8c83e2e",
   "metadata": {},
   "outputs": [],
   "source": [
    "# Full projection images\n",
    "imgs = []\n",
    "for i, field in enumerate( tqdm.tqdm( fields ) ):\n",
    "    img = get_image( field, ).to( field_units[i] )\n",
    "    imgs.append( img )"
   ]
  },
  {
   "cell_type": "code",
   "execution_count": null,
   "id": "515fc0d6-d5d8-4c20-bcc4-791c71650885",
   "metadata": {},
   "outputs": [],
   "source": [
    "# Zoom images\n",
    "zoom_imgs = []\n",
    "for i, field in enumerate( tqdm.tqdm( fields ) ):\n",
    "    img = get_image( field, zoom_yrange_kpc, zoom_zrange_kpc ).to( field_units[i] )\n",
    "    zoom_imgs.append( img )"
   ]
  },
  {
   "cell_type": "markdown",
   "id": "b73b5878-1ec6-4cad-b921-5ebe08ba6621",
   "metadata": {},
   "source": [
    "# Convert to Equivalent Width"
   ]
  },
  {
   "cell_type": "markdown",
   "id": "b3adb9bb-4175-4f4d-866a-54a76e9a0408",
   "metadata": {},
   "source": [
    "## Curve of Growth"
   ]
  },
  {
   "cell_type": "markdown",
   "id": "59799b5a-d022-4b96-a241-13bae3f59086",
   "metadata": {},
   "source": [
    "### Get range"
   ]
  },
  {
   "cell_type": "code",
   "execution_count": null,
   "id": "754d26cf-1dc1-45a1-82a6-24fa5328af0b",
   "metadata": {},
   "outputs": [],
   "source": [
    "linelist = LineList( 'ISM' )\n",
    "NaI_lines = linelist.all_transitions( (11,1) )\n",
    "transition = NaI_lines['name'][0]"
   ]
  },
  {
   "cell_type": "code",
   "execution_count": null,
   "id": "6f270b83-a8f1-45d3-a24e-1875e2eedc40",
   "metadata": {},
   "outputs": [],
   "source": [
    "colden_min = absline.N_from_Wr_transition( EW_min * u.angstrom, transition ).value"
   ]
  },
  {
   "cell_type": "markdown",
   "id": "d10cb390-657c-46b9-b42e-374ac1591665",
   "metadata": {},
   "source": [
    "### Calculate"
   ]
  },
  {
   "cell_type": "code",
   "execution_count": null,
   "id": "4a714f41-3d9d-4b31-9272-d0be90a21f0d",
   "metadata": {},
   "outputs": [],
   "source": [
    "coldens_cog = np.logspace( np.log10( colden_min ), 20, 1001 ) * u.cm**-2\n",
    "bs = np.arange( 0., 50, 5., )"
   ]
  },
  {
   "cell_type": "code",
   "execution_count": null,
   "id": "d7c018a5-0304-400a-99ee-0c173186eedd",
   "metadata": {},
   "outputs": [],
   "source": [
    "EWs_cog = []\n",
    "for b in bs:\n",
    "    EWs_b = absline.Wr_from_N_b_transition( coldens_cog, np.full( coldens_cog.shape, b ) * u.km / u.s, transition ).value\n",
    "    EWs_cog.append( EWs_b )"
   ]
  },
  {
   "cell_type": "code",
   "execution_count": null,
   "id": "df8510fc-e939-497d-979b-76c9423f520e",
   "metadata": {},
   "outputs": [],
   "source": [
    "EWs_default = absline.Wr_from_N_b_transition( coldens_cog, np.full( coldens_cog.shape, b_default ) * u.km / u.s, transition ).value"
   ]
  },
  {
   "cell_type": "code",
   "execution_count": null,
   "id": "4dcb105a-ed9a-4718-9625-a8c522f153b5",
   "metadata": {},
   "outputs": [],
   "source": [
    "color_norm = matplotlib.colors.Normalize( vmin=bs[0], vmax=bs[-1] )\n",
    "colormap = matplotlib.colormaps.get( 'viridis' )"
   ]
  },
  {
   "cell_type": "code",
   "execution_count": null,
   "id": "92519b8d-65d2-49f4-b1f5-91a55fd564e5",
   "metadata": {},
   "outputs": [],
   "source": [
    "# Plot curve of growth\n",
    "fig = plt.figure()\n",
    "ax = plt.gca()\n",
    "\n",
    "for i, EWs_b in enumerate( EWs_cog ):\n",
    "    ax.plot(\n",
    "        coldens_cog,\n",
    "        EWs_b,\n",
    "        color = colormap( color_norm( bs[i] ) ),\n",
    "    )\n",
    "    \n",
    "ax.plot(\n",
    "    coldens_cog,\n",
    "    EWs_default,\n",
    "    color = 'k',\n",
    ")\n",
    "\n",
    "ax.set_xlabel( r'$N_{Na\\,I}$ [cm$^{-2}$]' )\n",
    "ax.set_ylabel( r'EW [$\\AA$]' )\n",
    "\n",
    "ax.set_xscale( 'log' )\n",
    "ax.set_yscale( 'log' )"
   ]
  },
  {
   "cell_type": "markdown",
   "id": "792db898-437a-4d80-8dd4-7ba96e67a5ca",
   "metadata": {},
   "source": [
    "### Create interpolation function"
   ]
  },
  {
   "cell_type": "code",
   "execution_count": null,
   "id": "f08ea38c-5d59-4294-a912-0f3d1bb7ddd2",
   "metadata": {},
   "outputs": [],
   "source": [
    "EW_interp_fn = scipy.interpolate.interp1d( coldens_cog, EWs_default )"
   ]
  },
  {
   "cell_type": "markdown",
   "id": "2e33c106-d053-44bc-938b-d639c81aab65",
   "metadata": {},
   "source": [
    "## Conversion Itself"
   ]
  },
  {
   "cell_type": "code",
   "execution_count": null,
   "id": "5de74274-9c48-4276-ba34-d893ad0bd61c",
   "metadata": {},
   "outputs": [],
   "source": [
    "# Full projection\n",
    "coldens = imgs[1]\n",
    "coldens[coldens<colden_min] = colden_min\n",
    "EWs = EW_interp_fn( coldens )\n",
    "EWs_masked = np.ma.masked_where( EWs <= EW_min, EWs )"
   ]
  },
  {
   "cell_type": "code",
   "execution_count": null,
   "id": "1bcaa679-8b30-4b18-bab1-d83806ce40ce",
   "metadata": {},
   "outputs": [],
   "source": [
    "# Zoom\n",
    "coldens_zoom = zoom_imgs[1]\n",
    "coldens_zoom[coldens_zoom<colden_min] = colden_min\n",
    "EWs_zoom = EW_interp_fn( coldens )\n",
    "EWs_zoom_masked = np.ma.masked_where( EWs_zoom <= EW_min, EWs_zoom )"
   ]
  },
  {
   "cell_type": "markdown",
   "id": "2a1fff4a-2eed-47de-91b1-b83d5f224c61",
   "metadata": {},
   "source": [
    "# Plot"
   ]
  },
  {
   "cell_type": "markdown",
   "id": "c9c1994f-f423-4865-8250-4ebdc6810269",
   "metadata": {},
   "source": [
    "## Setup"
   ]
  },
  {
   "cell_type": "code",
   "execution_count": null,
   "id": "59c3e89f-26db-4ab3-a303-309372a09260",
   "metadata": {},
   "outputs": [],
   "source": [
    "ys = np.linspace( yrange_full_proj_kpc[0], yrange_full_proj_kpc[1], default_resolution )\n",
    "zs = np.linspace( zrange_full_proj_kpc[0], zrange_full_proj_kpc[1], default_resolution )"
   ]
  },
  {
   "cell_type": "code",
   "execution_count": null,
   "id": "e2da65f4-f786-4f70-885f-b75a945c86ca",
   "metadata": {},
   "outputs": [],
   "source": [
    "ys_zoom = np.linspace( zoom_yrange_kpc[0], zoom_yrange_kpc[1], default_resolution )\n",
    "zs_zoom = np.linspace( zoom_zrange_kpc[0], zoom_zrange_kpc[1], default_resolution )"
   ]
  },
  {
   "cell_type": "markdown",
   "id": "0b7924de-44a7-4b68-a08d-b92e07fe4811",
   "metadata": {},
   "source": [
    "## Projected and zoom, individually"
   ]
  },
  {
   "cell_type": "code",
   "execution_count": null,
   "id": "6ce46612-bcee-4371-a0b5-765ad5ef5561",
   "metadata": {},
   "outputs": [],
   "source": [
    "# Projected\n",
    "fig = plt.figure()\n",
    "ax = plt.gca()\n",
    "\n",
    "ax.pcolormesh(\n",
    "    ys,\n",
    "    zs,\n",
    "    EWs.transpose(),\n",
    "    norm = matplotlib.colors.LogNorm(),\n",
    ")\n",
    "\n",
    "ax.set_aspect( 'equal' )"
   ]
  },
  {
   "cell_type": "code",
   "execution_count": null,
   "id": "fe3e78fc-7738-49b4-a174-b68c9b2c9fd6",
   "metadata": {},
   "outputs": [],
   "source": [
    "# Projected\n",
    "fig = plt.figure()\n",
    "ax = plt.gca()\n",
    "\n",
    "ax.pcolormesh(\n",
    "    ys_zoom,\n",
    "    zs_zoom,\n",
    "    EWs_zoom.transpose(),\n",
    "    norm = matplotlib.colors.LogNorm(),\n",
    ")\n",
    "\n",
    "ax.set_aspect( 'equal' )"
   ]
  },
  {
   "cell_type": "markdown",
   "id": "5d2fc652-d223-48c0-8c51-697dc98b410e",
   "metadata": {},
   "source": [
    "# TPCF"
   ]
  },
  {
   "cell_type": "code",
   "execution_count": null,
   "id": "da70dffd-29cd-4622-9aad-db6aa325f67e",
   "metadata": {},
   "outputs": [],
   "source": [
    "assert False, 'Not fully implemented yet..'"
   ]
  },
  {
   "cell_type": "markdown",
   "id": "7df0c1b8-b4ac-413c-ac6a-52effcf889b9",
   "metadata": {},
   "source": [
    "## Calculate weighted TPCF"
   ]
  },
  {
   "cell_type": "code",
   "execution_count": null,
   "id": "f35499cb-fb44-4c93-9791-c0123ff58d72",
   "metadata": {},
   "outputs": [],
   "source": [
    "import stained_glass.stats"
   ]
  },
  {
   "cell_type": "code",
   "execution_count": null,
   "id": "47f91ae6-0878-4823-93ee-7240d489424b",
   "metadata": {},
   "outputs": [],
   "source": [
    "y_mesh, z_mesh = np.meshgrid( ys, zs )\n",
    "coords = np.array([ y_mesh.flatten(), z_mesh.flatten(), ]).transpose()\n",
    "weights = EWs.flatten()"
   ]
  },
  {
   "cell_type": "code",
   "execution_count": null,
   "id": "90f8a5e0-61c2-4c62-8d60-8d6b1dc7499c",
   "metadata": {},
   "outputs": [],
   "source": [
    "# Toss out non-detections\n",
    "is_detectable = weights > EW_min\n",
    "coords = coords[is_detectable]\n",
    "weights = weights[is_detectable]"
   ]
  },
  {
   "cell_type": "code",
   "execution_count": null,
   "id": "980a5a10-d01d-4357-b577-363babbc4682",
   "metadata": {},
   "outputs": [],
   "source": [
    "edges = np.logspace( -2, np.log10( zoom_width ) )\n",
    "tpcf, edges, info = stained_glass.stats.weighted_tpcf(\n",
    "    coords,\n",
    "    weights = weights,\n",
    "    edges = edges,\n",
    "    return_info = True,\n",
    ")"
   ]
  },
  {
   "cell_type": "code",
   "execution_count": null,
   "id": "19fe165a-1a6a-4c07-8dcc-27a0caa4e4fa",
   "metadata": {},
   "outputs": [],
   "source": [
    "centers = 0.5 * ( edges[:-1] + edges[1:] )"
   ]
  },
  {
   "cell_type": "code",
   "execution_count": null,
   "id": "22296431-9eaa-4259-a6d4-ca978402e758",
   "metadata": {},
   "outputs": [],
   "source": [
    "# Characteristic cloud size\n",
    "interp_fn = scipy.interpolate.interp1d( tpcf, centers )\n",
    "l_cloud = interp_fn( 0.5 )"
   ]
  },
  {
   "cell_type": "code",
   "execution_count": null,
   "id": "87fe5dae-a1fd-4bcd-b18a-7e354604db3e",
   "metadata": {},
   "outputs": [],
   "source": [
    "fig = plt.figure()\n",
    "ax = plt.gca()\n",
    "\n",
    "ax.plot(\n",
    "    centers,\n",
    "    tpcf,\n",
    "    color = 'k',\n",
    "    linewidth = 1.5,\n",
    ")\n",
    "\n",
    "# Characteristic cloud size\n",
    "ax.axvline(\n",
    "    l_cloud,\n",
    "    color = 'k',\n",
    "    linewidth = 1,\n",
    "    linestyle = '--',\n",
    ")\n",
    "ax.axhline(\n",
    "    0,\n",
    "    color = '0.9',\n",
    "    zorder = -10,\n",
    ")\n",
    "\n",
    "ax.set_xscale( 'log' )\n",
    "ax.set_ylim( -1, 1 )\n",
    "ax.set_xlim( centers[0], centers[-1] )"
   ]
  },
  {
   "cell_type": "code",
   "execution_count": null,
   "id": "952f6d56-9c9c-4245-948c-93cd8f59bfb7",
   "metadata": {},
   "outputs": [],
   "source": []
  }
 ],
 "metadata": {
  "kernelspec": {
   "display_name": "Python 3 (ipykernel)",
   "language": "python",
   "name": "python3"
  },
  "language_info": {
   "codemirror_mode": {
    "name": "ipython",
    "version": 3
   },
   "file_extension": ".py",
   "mimetype": "text/x-python",
   "name": "python",
   "nbconvert_exporter": "python",
   "pygments_lexer": "ipython3",
   "version": "3.10.4"
  }
 },
 "nbformat": 4,
 "nbformat_minor": 5
}
