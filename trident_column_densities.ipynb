{
 "cells": [
  {
   "cell_type": "markdown",
   "id": "0c36fc05",
   "metadata": {},
   "source": [
    "# Set Up"
   ]
  },
  {
   "cell_type": "code",
   "execution_count": 1,
   "id": "8fac152a",
   "metadata": {},
   "outputs": [],
   "source": [
    "import numpy as np\n",
    "import matplotlib\n",
    "import matplotlib.pyplot as plt\n",
    "import scipy\n",
    "import yt\n",
    "import unyt\n",
    "import tqdm\n",
    "import pandas as pd\n",
    "import trident as tr\n",
    "from trident.absorption_spectrum.absorption_line import tau_profile\n",
    "from linetools.lists.linelist import LineList"
   ]
  },
  {
   "cell_type": "code",
   "execution_count": 2,
   "id": "36ec2401-d6c1-4f0d-bd19-a8fe47a04836",
   "metadata": {},
   "outputs": [],
   "source": [
    "from linetools.analysis import absline\n",
    "import astropy.units as u"
   ]
  },
  {
   "cell_type": "markdown",
   "id": "b96a07eb-a747-4464-aa80-324f52ed9983",
   "metadata": {},
   "source": [
    "# Parameters"
   ]
  },
  {
   "cell_type": "code",
   "execution_count": 3,
   "id": "c420ca17-e4be-456a-9147-0dba3f291a47",
   "metadata": {},
   "outputs": [],
   "source": [
    "# Location of the target snapshot\n",
    "# simulation_fp = '/Users/zhafen/data/fire/fire2/metal_diffusion/m12i_res7100/output/snapdir_600/snapshot_600.0.hdf5'\n",
    "simulation_fp = '/Users/zhafen/data/fire/fire2/metal_diffusion/m12i_res57000/output/snapshot_600.hdf5'\n",
    "\n",
    "# Location of the halo file if provided. If use_halo_file == False then the center will be found automatically.\n",
    "use_halo_file = True\n",
    "# halo_catalog_fp = '/Users/zhafen/data/fire/fire2/metal_diffusion/m12i_res7100/halo/rockstar_dm/catalog_hdf5/halo_600.hdf5'\n",
    "halo_catalog_fp = '/Users/zhafen/data/fire/fire2/metal_diffusion/m12i_res57000/halo/rockstar_dm/catalog_hdf5/halo_600.hdf5'\n",
    "\n",
    "# Projection choices\n",
    "proj_halfwidth_kpc = 5. # Halfwidth in units of kpc\n",
    "proj_xrange_width = np.array([ -0.5, 0.5 ]) # Slice location in units of width\n",
    "default_resolution = 100 # Points per side\n",
    "\n",
    "# Location and width of inset in kpc\n",
    "zoom_yrange_kpc = np.array([ -5., 0. ])\n",
    "zoom_zrange_kpc = np.array([ -5., 0. ])\n",
    "\n",
    "\n",
    "# Obs choices\n",
    "EW_min = 0.01\n",
    "b_default = 30. # In km/s\n",
    "angular_resolution = 1 # In units of arcmin"
   ]
  },
  {
   "cell_type": "code",
   "execution_count": 4,
   "id": "27578329-f24f-4a92-8522-7a77bca9076e",
   "metadata": {},
   "outputs": [],
   "source": [
    "# Presentation\n",
    "figure_width = 3.376 # Default figure width in inches; MNRAS column width\n",
    "max_figure_height = 9.437 # Text height for MNRAS\n",
    "large_fontsize = 14.4\n",
    "normal_fontsize = 12\n",
    "small_fontsize = 10.95\n",
    "\n",
    "cmap = 'cubehelix'"
   ]
  },
  {
   "cell_type": "markdown",
   "id": "a20f4a75-0a0f-4d41-bac1-00acce0e3186",
   "metadata": {},
   "source": [
    "# Load Data"
   ]
  },
  {
   "cell_type": "code",
   "execution_count": 5,
   "id": "00c857b0",
   "metadata": {},
   "outputs": [],
   "source": [
    "np.set_printoptions(precision=20)"
   ]
  },
  {
   "cell_type": "code",
   "execution_count": 6,
   "id": "8212f83a",
   "metadata": {},
   "outputs": [
    {
     "name": "stderr",
     "output_type": "stream",
     "text": [
      "yt : [INFO     ] 2022-11-08 16:33:36,680 Calculating time from 1.000e+00 to be 4.355e+17 seconds\n",
      "yt : [INFO     ] 2022-11-08 16:33:36,682 Assuming length units are in kpc/h (comoving)\n",
      "yt : [INFO     ] 2022-11-08 16:33:36,784 Parameters: current_time              = 4.3545571088051405e+17 s\n",
      "yt : [INFO     ] 2022-11-08 16:33:36,785 Parameters: domain_dimensions         = [1 1 1]\n",
      "yt : [INFO     ] 2022-11-08 16:33:36,787 Parameters: domain_left_edge          = [0. 0. 0.]\n",
      "yt : [INFO     ] 2022-11-08 16:33:36,788 Parameters: domain_right_edge         = [60000. 60000. 60000.]\n",
      "yt : [INFO     ] 2022-11-08 16:33:36,788 Parameters: cosmological_simulation   = 1\n",
      "yt : [INFO     ] 2022-11-08 16:33:36,789 Parameters: current_redshift          = 0.0\n",
      "yt : [INFO     ] 2022-11-08 16:33:36,789 Parameters: omega_lambda              = 0.728\n",
      "yt : [INFO     ] 2022-11-08 16:33:36,789 Parameters: omega_matter              = 0.272\n",
      "yt : [INFO     ] 2022-11-08 16:33:36,790 Parameters: omega_radiation           = 0.0\n",
      "yt : [INFO     ] 2022-11-08 16:33:36,790 Parameters: hubble_constant           = 0.702\n"
     ]
    }
   ],
   "source": [
    "ds = yt.load( simulation_fp )"
   ]
  },
  {
   "cell_type": "code",
   "execution_count": 7,
   "id": "f0dbd5e4",
   "metadata": {},
   "outputs": [
    {
     "name": "stderr",
     "output_type": "stream",
     "text": [
      "yt : [INFO     ] 2022-11-08 16:33:36,835 Allocating for 2.093e+07 particles\n",
      "Loading particle index: 100%|██████████████████████████████████████████████████████████████████████████████████████████████████████████████████████████████████████████████████████████████████████████████████████████████| 34/34 [00:00<00:00, 10300.20it/s]\n"
     ]
    }
   ],
   "source": [
    "data = ds.all_data()"
   ]
  },
  {
   "cell_type": "code",
   "execution_count": 8,
   "id": "1c8ddfec",
   "metadata": {},
   "outputs": [
    {
     "name": "stderr",
     "output_type": "stream",
     "text": [
      "/Users/zhafen/miniconda3/envs/general/lib/python3.10/site-packages/unyt/array.py:1758: RuntimeWarning: invalid value encountered in log10\n",
      "  out_arr = func(np.asarray(inp), out=out_func, **kwargs)\n"
     ]
    }
   ],
   "source": [
    "tr.add_ion_fields( ds, ions=['O VI','C IV', 'Si II', 'Mg II','Na I'],)"
   ]
  },
  {
   "cell_type": "markdown",
   "id": "54ee4003",
   "metadata": {},
   "source": [
    "## The Center of Galaxy Using Halo Data"
   ]
  },
  {
   "cell_type": "code",
   "execution_count": 9,
   "id": "22781218-181f-4c21-832c-0570d503d290",
   "metadata": {},
   "outputs": [],
   "source": [
    "kpc = ds.quan( 1, 'kpc' )"
   ]
  },
  {
   "cell_type": "code",
   "execution_count": 10,
   "id": "bb1b42a3",
   "metadata": {},
   "outputs": [],
   "source": [
    "if use_halo_file:\n",
    "    import h5py\n",
    "    f = h5py.File( halo_catalog_fp, 'r' ) #f is a dictionary, so you can do f.keys()\n",
    "    index = f['mass'][...].argmax() \n",
    "\n",
    "    #... means indexing all of it, because HDF5 doesn't show you everything unless you ask for it\n",
    "    #.argmax() gets the index of maximum.\n",
    "    #maximum mass is center because host galaxy is the one in the center so it should have the most mass.\n",
    "\n",
    "    center_ckpc = f['position'][...][index]\n",
    "    #the actual code to bring it to modern day, getting physical distance, is below. \n",
    "    #not used because error but f[redshift] is 0 so it's basically center_ckpc\n",
    "\n",
    "    center_kpc = center_ckpc / ( 1. + f['snapshot:redshift'][...] )\n",
    "\n",
    "    center = center_kpc * kpc\n",
    "else:\n",
    "    print( 'Finding center using maximum density' )\n",
    "    _, center = ds.find_max( ('gas', 'density') )\n",
    "    center_kpc = center.to( 'kpc' ).value"
   ]
  },
  {
   "cell_type": "markdown",
   "id": "afb7edd1",
   "metadata": {},
   "source": [
    "## Create coordinate frame"
   ]
  },
  {
   "cell_type": "code",
   "execution_count": 15,
   "id": "3a2fdb77",
   "metadata": {},
   "outputs": [],
   "source": [
    "# Get dataset units\n",
    "kpc = ds.quan( 1, 'kpc' )\n",
    "\n",
    "# Calculate the angular momentum (extracting a sphere around the galaxy first for it).\n",
    "# `center` is the center of the galaxy in kpc.\n",
    "sp = ds.sphere( center , (10, \"kpc\")) #10 is radius\n",
    "jtot = sp.quantities.angular_momentum_vector( particle_type='PartType0' ).to( 'kpc * km / s' ).value\n",
    "\n",
    "# Unit vectors for a frame w/ zhat aligned with the total angular momentum\n",
    "zhat = jtot / np.linalg.norm( jtot ) #basically getting the unit vector by dividing jtot vector by its magnitude\n",
    "\n",
    "#cross product of zhat and some vector to get a vector that's perpendicular to zhat (along galaxy disk):\n",
    "xhat = np.cross( [ 1, 0, 0 ], zhat )\n",
    "xhat /= np.linalg.norm( xhat )\n",
    "\n",
    "# Sun position in simulation coordinates -> 8 kpc from center at an arbitrary angle\n",
    "sun_position = center + (8. * xhat * kpc)\n",
    "\n",
    "# Unit vectors for on-sky coordinate system.\n",
    "# xskyhat points from the sun to the center of the galaxy.\n",
    "# zskyhat points parallel to the axis of total angular momentum.\n",
    "# yskyhat (should) point to the left on a sky map.\n",
    "xskyhat = -xhat\n",
    "zskyhat = zhat\n",
    "yskyhat = np.cross( zskyhat, xskyhat )"
   ]
  },
  {
   "cell_type": "code",
   "execution_count": null,
   "id": "92f48eae",
   "metadata": {},
   "outputs": [],
   "source": [
    "# Not currently used\n",
    "\n",
    "# gas_coordinates = (data[('PartType0', 'Coordinates')]).in_units(\"kpc\")\n",
    "\n",
    "# #apply distance formula from each star coordinate to the center. if <150 kpc, it is within a good range.\n",
    "# distance_to_center=np.sqrt( (gas_coordinates[:,0]-center[0] )**2 + (gas_coordinates[:,1]-center[1])**2 +(gas_coordinates[:,2]-center[2])**2 )\n",
    "\n",
    "# within_range = distance_to_center < (150.*kpc)\n",
    "# galaxy_gas = gas_coordinates[within_range]\n"
   ]
  },
  {
   "cell_type": "code",
   "execution_count": null,
   "id": "8d52e73f-dc25-430c-9f16-a02296885009",
   "metadata": {},
   "outputs": [],
   "source": [
    "# # These new positions aren't currently used\n",
    "\n",
    "# # Given a series of positions (the undefined vector)\n",
    "# # shift them over, i.e. make a new frame centered on the sun.\n",
    "# positions_sun = galaxy_gas - sun_position\n",
    "\n",
    "# # And now rotate them to the sky frame\n",
    "# positions_sky = np.array([\n",
    "#     np.dot( positions_sun, xskyhat ), # Check the axis argument, this may not be right\n",
    "#     np.dot( positions_sun, yskyhat ),\n",
    "#     np.dot( positions_sun, zskyhat ),\n",
    "#     ]).transpose()"
   ]
  },
  {
   "cell_type": "markdown",
   "id": "57a0da25",
   "metadata": {},
   "source": [
    "# Generate Images"
   ]
  },
  {
   "cell_type": "markdown",
   "id": "d9af0dac-16aa-42b3-bdc2-6edfcac6c9e7",
   "metadata": {},
   "source": [
    "## General Function"
   ]
  },
  {
   "cell_type": "code",
   "execution_count": null,
   "id": "1e3f7efa-02b4-4720-b023-9957ee9389ab",
   "metadata": {},
   "outputs": [],
   "source": [
    "yrange_full_proj_kpc = np.array([ -1, 1 ]) * proj_halfwidth_kpc\n",
    "zrange_full_proj_kpc = np.array([ -1, 1 ]) * proj_halfwidth_kpc"
   ]
  },
  {
   "cell_type": "code",
   "execution_count": null,
   "id": "159be25d-442f-40b4-86f0-c50d594dee6c",
   "metadata": {},
   "outputs": [],
   "source": [
    "def get_image( field, yrange_kpc=yrange_full_proj_kpc, zrange_kpc=zrange_full_proj_kpc, method='yt', resolution=default_resolution ):\n",
    "    \n",
    "    # Convert ranges to unyt\n",
    "    yrange = yrange_kpc * kpc\n",
    "    zrange = zrange_kpc * kpc\n",
    "    proj_xrange_kpc = proj_xrange_width * proj_halfwidth_kpc * 2.\n",
    "    proj_xrange = proj_xrange_kpc * kpc\n",
    "    \n",
    "    # Get width/depth\n",
    "    proj_ywidth_kpc = yrange_kpc[1] - yrange_kpc[0]\n",
    "    proj_zwidth_kpc = zrange_kpc[1] - zrange_kpc[0]\n",
    "    proj_depth_kpc = proj_xrange_kpc[1] - proj_xrange_kpc[0]\n",
    "    \n",
    "    # Image frame for adjustment\n",
    "    xhat_img = xhat\n",
    "    yhat_img = np.cross( zhat, xhat )\n",
    "    zhat_img = zhat\n",
    "\n",
    "    # Recenter\n",
    "    new_center = (\n",
    "        sp.center\n",
    "        + xhat_img * 0.5 * ( proj_xrange[0] + proj_xrange[1] )\n",
    "        + yhat_img * 0.5 * ( yrange[0] + yrange[1] )\n",
    "        + zhat_img * 0.5 * ( zrange[0] + zrange[1] )\n",
    "    )\n",
    "    \n",
    "    # Locations of projections\n",
    "    y_centers = np.linspace( yrange_kpc[0], yrange_kpc[1], resolution )\n",
    "    z_centers = np.linspace( zrange_kpc[0], zrange_kpc[1], resolution )\n",
    "    dy = y_centers[1] - y_centers[0]\n",
    "    dz = z_centers[1] - z_centers[0]\n",
    "    y_edges = np.arange( y_centers[0] - dy/2., y_centers[-1] + 0.5000001*dy, dy, )\n",
    "    z_edges = np.arange( z_centers[0] - dz/2., z_centers[-1] + 0.5000001*dz, dz, )\n",
    "    \n",
    "    supplementary_data = {}\n",
    "    supplementary_data['new_center'] = new_center\n",
    "        \n",
    "    if method == 'yt':\n",
    "        image = yt.off_axis_projection(\n",
    "            ds,\n",
    "            center = new_center.to( 'kpc' ),\n",
    "            normal_vector = xhat,\n",
    "            width = ( np.array([ proj_ywidth_kpc, proj_zwidth_kpc, proj_depth_kpc ]) * kpc ).to( 'kpc' ),\n",
    "            resolution = (default_resolution, default_resolution),\n",
    "            item = field,\n",
    "            north_vector = zhat,\n",
    "        )\n",
    "        \n",
    "    # Histogram, good for checking\n",
    "    elif method == 'histogram':\n",
    "        \n",
    "        coords = ( sp[('PartType0', 'Coordinates')] - sp.center ).to( 'kpc' ).value\n",
    "                \n",
    "        x_img = np.dot( coords, xhat_img )\n",
    "        y_img = np.dot( coords, yhat_img )\n",
    "        z_img = np.dot( coords, zhat_img )\n",
    "        \n",
    "        supplementary_data['y_edges'] = y_edges\n",
    "        supplementary_data['z_edges'] = z_edges\n",
    "        \n",
    "        field_density = sp[field]\n",
    "        volume = sp[('PartType0', 'mass')] / sp[('gas', 'density')]\n",
    "        field_mass = field_density * volume\n",
    "        \n",
    "        try:\n",
    "            field_mass = field_mass.to( 'Msun' ).value\n",
    "            is_number_density_field = False\n",
    "        # Number densities\n",
    "        except:\n",
    "            field_mass = ( field_mass * unyt.mp ).to( 'Msun' ).value\n",
    "            is_number_density_field = True\n",
    "        \n",
    "        image, _, _ = np.histogram2d(\n",
    "            y_img,\n",
    "            z_img,\n",
    "            weights = field_mass,\n",
    "            bins = [ y_edges, z_edges ],\n",
    "        )\n",
    "        \n",
    "        # Divide by bin area\n",
    "        image /= dy * dz\n",
    "        \n",
    "        # Add units again\n",
    "        image *= unyt.Msun / unyt.kpc**2.\n",
    "        \n",
    "        if is_number_density_field:\n",
    "            image /= unyt.mp\n",
    "        \n",
    "    return image, supplementary_data"
   ]
  },
  {
   "cell_type": "markdown",
   "id": "875a3292-25a5-47ac-a519-e1279b2b89c7",
   "metadata": {},
   "source": [
    "## Loop to get images"
   ]
  },
  {
   "cell_type": "code",
   "execution_count": null,
   "id": "9a57a4bc-9d84-4a5b-aaad-3217a5505df7",
   "metadata": {},
   "outputs": [],
   "source": [
    "fields = [ ( 'gas', 'density' ), 'Na_p0_number_density' ]\n",
    "field_units = [ 'Msun/kpc**2', 'cm**-2' ]\n",
    "# fields = [ 'Na_p0_number_density' ]\n",
    "# field_units = [ 'cm**-2' ]"
   ]
  },
  {
   "cell_type": "code",
   "execution_count": null,
   "id": "b42ef82a-3071-48f4-bc82-e11be8c83e2e",
   "metadata": {},
   "outputs": [],
   "source": [
    "# Full projection images\n",
    "imgs = []\n",
    "for i, field in enumerate( tqdm.tqdm( fields ) ):\n",
    "    img, supplementary_data = get_image( field, )\n",
    "    imgs.append( img.to( field_units[i] ) )"
   ]
  },
  {
   "cell_type": "code",
   "execution_count": null,
   "id": "e2ae918a-5df1-402d-b443-85ca22486bd5",
   "metadata": {},
   "outputs": [],
   "source": [
    "# Full projection images, histogram version\n",
    "hist_imgs = []\n",
    "hist_supplements = []\n",
    "for i, field in enumerate( tqdm.tqdm( fields ) ):\n",
    "    img, supplementary_data = get_image( field, method='histogram' )\n",
    "    hist_supplements.append( supplementary_data )\n",
    "    hist_imgs.append( img.to( field_units[i] ) )"
   ]
  },
  {
   "cell_type": "code",
   "execution_count": null,
   "id": "515fc0d6-d5d8-4c20-bcc4-791c71650885",
   "metadata": {},
   "outputs": [],
   "source": [
    "# Zoom images\n",
    "zoom_imgs = []\n",
    "zoom_supplements = []\n",
    "for i, field in enumerate( tqdm.tqdm( fields ) ):\n",
    "    img, supplementary_data = get_image( field, zoom_yrange_kpc, zoom_zrange_kpc )\n",
    "    zoom_supplements.append( supplementary_data )\n",
    "    zoom_imgs.append( img.to( field_units[i] ) )"
   ]
  },
  {
   "cell_type": "code",
   "execution_count": null,
   "id": "7792b76f-97f2-4b50-ae90-6717f9f43c5b",
   "metadata": {},
   "outputs": [],
   "source": [
    "# Zoom images, histogram version\n",
    "hist_zoom_imgs = []\n",
    "hist_zoom_supplements = []\n",
    "for i, field in enumerate( tqdm.tqdm( fields ) ):\n",
    "    img, supplementary_data = get_image( field, zoom_yrange_kpc, zoom_zrange_kpc, method='histogram' )\n",
    "    hist_zoom_supplements.append( supplementary_data )\n",
    "    hist_zoom_imgs.append( img.to( field_units[i] ) )"
   ]
  },
  {
   "cell_type": "markdown",
   "id": "b73b5878-1ec6-4cad-b921-5ebe08ba6621",
   "metadata": {},
   "source": [
    "# Convert to Equivalent Width"
   ]
  },
  {
   "cell_type": "markdown",
   "id": "b3adb9bb-4175-4f4d-866a-54a76e9a0408",
   "metadata": {},
   "source": [
    "## Curve of Growth"
   ]
  },
  {
   "cell_type": "markdown",
   "id": "59799b5a-d022-4b96-a241-13bae3f59086",
   "metadata": {},
   "source": [
    "### Get range"
   ]
  },
  {
   "cell_type": "code",
   "execution_count": null,
   "id": "754d26cf-1dc1-45a1-82a6-24fa5328af0b",
   "metadata": {},
   "outputs": [],
   "source": [
    "linelist = LineList( 'ISM' )\n",
    "NaI_lines = linelist.all_transitions( (11,1) )\n",
    "transition = NaI_lines['name'][0]"
   ]
  },
  {
   "cell_type": "code",
   "execution_count": null,
   "id": "6f270b83-a8f1-45d3-a24e-1875e2eedc40",
   "metadata": {},
   "outputs": [],
   "source": [
    "colden_min = absline.N_from_Wr_transition( EW_min * u.angstrom, transition ).value"
   ]
  },
  {
   "cell_type": "markdown",
   "id": "d10cb390-657c-46b9-b42e-374ac1591665",
   "metadata": {},
   "source": [
    "### Calculate"
   ]
  },
  {
   "cell_type": "code",
   "execution_count": null,
   "id": "4a714f41-3d9d-4b31-9272-d0be90a21f0d",
   "metadata": {},
   "outputs": [],
   "source": [
    "coldens_cog = np.logspace( np.log10( colden_min ), 20, 1001 ) * u.cm**-2\n",
    "bs = np.arange( 0., 50, 5., )"
   ]
  },
  {
   "cell_type": "code",
   "execution_count": null,
   "id": "d7c018a5-0304-400a-99ee-0c173186eedd",
   "metadata": {},
   "outputs": [],
   "source": [
    "EWs_cog = []\n",
    "for b in bs:\n",
    "    EWs_b = absline.Wr_from_N_b_transition( coldens_cog, np.full( coldens_cog.shape, b ) * u.km / u.s, transition ).value\n",
    "    EWs_cog.append( EWs_b )"
   ]
  },
  {
   "cell_type": "code",
   "execution_count": null,
   "id": "df8510fc-e939-497d-979b-76c9423f520e",
   "metadata": {},
   "outputs": [],
   "source": [
    "EWs_default = absline.Wr_from_N_b_transition( coldens_cog, np.full( coldens_cog.shape, b_default ) * u.km / u.s, transition ).value"
   ]
  },
  {
   "cell_type": "code",
   "execution_count": null,
   "id": "4dcb105a-ed9a-4718-9625-a8c522f153b5",
   "metadata": {},
   "outputs": [],
   "source": [
    "color_norm = matplotlib.colors.Normalize( vmin=bs[0], vmax=bs[-1] )\n",
    "colormap = matplotlib.colormaps.get( 'viridis' )"
   ]
  },
  {
   "cell_type": "code",
   "execution_count": null,
   "id": "92519b8d-65d2-49f4-b1f5-91a55fd564e5",
   "metadata": {},
   "outputs": [],
   "source": [
    "# Plot curve of growth\n",
    "fig = plt.figure()\n",
    "ax = plt.gca()\n",
    "\n",
    "for i, EWs_b in enumerate( EWs_cog ):\n",
    "    ax.plot(\n",
    "        coldens_cog,\n",
    "        EWs_b,\n",
    "        color = colormap( color_norm( bs[i] ) ),\n",
    "    )\n",
    "    \n",
    "ax.plot(\n",
    "    coldens_cog,\n",
    "    EWs_default,\n",
    "    color = 'k',\n",
    ")\n",
    "\n",
    "ax.set_xlabel( r'$N_{Na\\,I}$ [cm$^{-2}$]' )\n",
    "ax.set_ylabel( r'EW [$\\AA$]' )\n",
    "\n",
    "ax.set_xscale( 'log' )\n",
    "ax.set_yscale( 'log' )"
   ]
  },
  {
   "cell_type": "markdown",
   "id": "792db898-437a-4d80-8dd4-7ba96e67a5ca",
   "metadata": {},
   "source": [
    "### Create interpolation function"
   ]
  },
  {
   "cell_type": "code",
   "execution_count": null,
   "id": "f08ea38c-5d59-4294-a912-0f3d1bb7ddd2",
   "metadata": {},
   "outputs": [],
   "source": [
    "EW_interp_fn = scipy.interpolate.interp1d( coldens_cog, EWs_default )"
   ]
  },
  {
   "cell_type": "markdown",
   "id": "2e33c106-d053-44bc-938b-d639c81aab65",
   "metadata": {},
   "source": [
    "## Conversion Itself"
   ]
  },
  {
   "cell_type": "code",
   "execution_count": null,
   "id": "5de74274-9c48-4276-ba34-d893ad0bd61c",
   "metadata": {},
   "outputs": [],
   "source": [
    "# Full projection\n",
    "coldens = imgs[-1]\n",
    "coldens[coldens<colden_min] = colden_min\n",
    "EWs = EW_interp_fn( coldens )\n",
    "EWs_masked = np.ma.masked_where( EWs <= EW_min, EWs )"
   ]
  },
  {
   "cell_type": "code",
   "execution_count": null,
   "id": "1bcaa679-8b30-4b18-bab1-d83806ce40ce",
   "metadata": {},
   "outputs": [],
   "source": [
    "# Zoom\n",
    "coldens_zoom = zoom_imgs[-1]\n",
    "coldens_zoom[coldens_zoom<colden_min] = colden_min\n",
    "EWs_zoom = EW_interp_fn( coldens_zoom )\n",
    "EWs_zoom_masked = np.ma.masked_where( EWs_zoom <= EW_min, EWs_zoom )"
   ]
  },
  {
   "cell_type": "markdown",
   "id": "2a1fff4a-2eed-47de-91b1-b83d5f224c61",
   "metadata": {},
   "source": [
    "# Plot"
   ]
  },
  {
   "cell_type": "markdown",
   "id": "c9c1994f-f423-4865-8250-4ebdc6810269",
   "metadata": {},
   "source": [
    "## Setup"
   ]
  },
  {
   "cell_type": "code",
   "execution_count": null,
   "id": "3355d074-8675-4406-b483-160f0c295da3",
   "metadata": {},
   "outputs": [],
   "source": [
    "from mpl_toolkits.axes_grid1 import make_axes_locatable\n",
    "from mpl_toolkits.axes_grid1.anchored_artists import AnchoredSizeBar\n",
    "import matplotlib.font_manager as fm"
   ]
  },
  {
   "cell_type": "code",
   "execution_count": null,
   "id": "59c3e89f-26db-4ab3-a303-309372a09260",
   "metadata": {},
   "outputs": [],
   "source": [
    "ys = np.linspace( yrange_full_proj_kpc[0], yrange_full_proj_kpc[1], default_resolution )\n",
    "zs = np.linspace( zrange_full_proj_kpc[0], zrange_full_proj_kpc[1], default_resolution )"
   ]
  },
  {
   "cell_type": "code",
   "execution_count": null,
   "id": "e2da65f4-f786-4f70-885f-b75a945c86ca",
   "metadata": {},
   "outputs": [],
   "source": [
    "ys_zoom = np.linspace( zoom_yrange_kpc[0], zoom_yrange_kpc[1], default_resolution )\n",
    "zs_zoom = np.linspace( zoom_zrange_kpc[0], zoom_zrange_kpc[1], default_resolution )"
   ]
  },
  {
   "cell_type": "code",
   "execution_count": null,
   "id": "a3b1a0ea-9213-4eba-84bc-cfe8d0ac3013",
   "metadata": {},
   "outputs": [],
   "source": [
    "colden_norm = matplotlib.colors.LogNorm( vmin=colden_min, vmax=coldens.max() )\n",
    "norm = matplotlib.colors.LogNorm( vmin=EW_min, vmax=EWs.max() )"
   ]
  },
  {
   "cell_type": "code",
   "execution_count": null,
   "id": "2bd2f3d0-91f5-486d-93e6-75802ba431b8",
   "metadata": {},
   "outputs": [],
   "source": [
    "fontproperties = fm.FontProperties( size=normal_fontsize )"
   ]
  },
  {
   "cell_type": "code",
   "execution_count": null,
   "id": "aa379941-d23b-40da-9ec8-1067e30ce3f1",
   "metadata": {},
   "outputs": [],
   "source": [
    "def plot_zoom_region( ax, color='r' ):\n",
    "    \n",
    "    # Plot zoom-in area\n",
    "    xy = [ zoom_yrange_kpc[0], zoom_zrange_kpc[-1] ]\n",
    "    width = zoom_yrange_kpc[1] - zoom_yrange_kpc[0]\n",
    "    height = zoom_zrange_kpc[1] - zoom_zrange_kpc[0]\n",
    "    zoom_region = matplotlib.patches.Rectangle(\n",
    "        xy,\n",
    "        width,\n",
    "        -height,\n",
    "        fill = False,\n",
    "        linewidth = 3,\n",
    "        color = color,\n",
    "    )\n",
    "    ax.add_patch( zoom_region )"
   ]
  },
  {
   "cell_type": "markdown",
   "id": "0b7924de-44a7-4b68-a08d-b92e07fe4811",
   "metadata": {},
   "source": [
    "## Column Density Images"
   ]
  },
  {
   "cell_type": "markdown",
   "id": "1272366a-fb75-414a-918b-eb839b385be3",
   "metadata": {},
   "source": [
    "### Overall Image"
   ]
  },
  {
   "cell_type": "code",
   "execution_count": null,
   "id": "d0e5cb80-43c1-48eb-b729-591f7a28dced",
   "metadata": {},
   "outputs": [],
   "source": [
    "# Projected\n",
    "fig = plt.figure()\n",
    "ax = plt.gca()\n",
    "\n",
    "ax.pcolormesh(\n",
    "    ys,\n",
    "    zs,\n",
    "    np.rot90( coldens, k=-1  ),\n",
    "    norm = colden_norm,\n",
    ")\n",
    "\n",
    "plot_zoom_region( ax )\n",
    "\n",
    "ax.set_aspect( 'equal' )"
   ]
  },
  {
   "cell_type": "code",
   "execution_count": null,
   "id": "76fd862b-4c5d-41cb-8b4d-243fbaf25424",
   "metadata": {},
   "outputs": [],
   "source": [
    "# Projected histogram\n",
    "fig = plt.figure()\n",
    "ax = plt.gca()\n",
    "\n",
    "ax.pcolormesh(\n",
    "    ys,\n",
    "    zs,\n",
    "    np.rot90( hist_imgs[-1], k=-1 ),\n",
    "    norm = colden_norm,\n",
    ")  \n",
    "\n",
    "plot_zoom_region( ax )\n",
    "\n",
    "ax.set_aspect( 'equal' )"
   ]
  },
  {
   "cell_type": "code",
   "execution_count": null,
   "id": "442aa836-323f-4907-a34f-faf8a60e9e89",
   "metadata": {},
   "outputs": [],
   "source": [
    "# Projected ratio\n",
    "fig = plt.figure()\n",
    "ax = plt.gca()\n",
    "\n",
    "ratio_img = ax.pcolormesh(\n",
    "    ys,\n",
    "    zs,\n",
    "    np.rot90( hist_imgs[-1] / coldens, k=-1 ),\n",
    "    norm = matplotlib.colors.LogNorm( vmin=0.1, vmax=10 ),\n",
    "    cmap = 'RdBu',\n",
    ")\n",
    "\n",
    "plot_zoom_region( ax )\n",
    "\n",
    "# Add colorbar\n",
    "divider = make_axes_locatable( ax )\n",
    "cax = divider.append_axes(\"right\", size=\"5%\", pad='2%')\n",
    "plt.colorbar( ratio_img, cax=cax )\n",
    "\n",
    "ax.set_aspect( 'equal' )"
   ]
  },
  {
   "cell_type": "markdown",
   "id": "53c50961-f727-4582-9c16-a60140983167",
   "metadata": {},
   "source": [
    "### Zoom Images"
   ]
  },
  {
   "cell_type": "code",
   "execution_count": null,
   "id": "64f37b0f-c880-4ea7-8c2c-012cbd3b3b2e",
   "metadata": {},
   "outputs": [],
   "source": [
    "# Projected\n",
    "fig = plt.figure()\n",
    "ax = plt.gca()\n",
    "\n",
    "img = ax.pcolormesh(\n",
    "    ys_zoom,\n",
    "    zs_zoom,\n",
    "    np.transpose( coldens_zoom, k=-1 ),\n",
    "    norm = colden_norm,\n",
    ")\n",
    "\n",
    "plot_zoom_region( ax )\n",
    "\n",
    "# Add colorbar\n",
    "divider = make_axes_locatable( ax )\n",
    "cax = divider.append_axes(\"right\", size=\"5%\", pad='2%')\n",
    "plt.colorbar( img, cax=cax )\n",
    "\n",
    "ax.set_aspect( 'equal' )"
   ]
  },
  {
   "cell_type": "code",
   "execution_count": null,
   "id": "d0948d93-b8b8-4308-be88-d4c0f06bbeb3",
   "metadata": {},
   "outputs": [],
   "source": [
    "# Projected histogram\n",
    "fig = plt.figure()\n",
    "ax = plt.gca()\n",
    "\n",
    "img = ax.pcolormesh(\n",
    "    ys_zoom,\n",
    "    zs_zoom,\n",
    "    np.rot90( hist_zoom_imgs[-1], k=-1 ),\n",
    "    norm = colden_norm,\n",
    ")\n",
    "\n",
    "plot_zoom_region( ax )\n",
    "\n",
    "# Add colorbar\n",
    "divider = make_axes_locatable( ax )\n",
    "cax = divider.append_axes(\"right\", size=\"5%\", pad='2%')\n",
    "plt.colorbar( img, cax=cax )\n",
    "\n",
    "ax.set_aspect( 'equal' )"
   ]
  },
  {
   "cell_type": "code",
   "execution_count": null,
   "id": "ac882466-db66-4eb6-8da8-db02303d909b",
   "metadata": {},
   "outputs": [],
   "source": [
    "# Ratio\n",
    "fig = plt.figure()\n",
    "ax = plt.gca()\n",
    "\n",
    "ratio_img = ax.pcolormesh(\n",
    "    ys_zoom,\n",
    "    zs_zoom,\n",
    "    np.rot90( hist_zoom_imgs[-1] / coldens_zoom, k=-1 ),\n",
    "    norm = matplotlib.colors.LogNorm( vmin=0.1, vmax=10 ),\n",
    "    cmap = 'RdBu',\n",
    ")\n",
    "\n",
    "plot_zoom_region( ax )\n",
    "\n",
    "# Add colorbar\n",
    "divider = make_axes_locatable( ax )\n",
    "cax = divider.append_axes(\"right\", size=\"5%\", pad='2%')\n",
    "plt.colorbar( ratio_img, cax=cax )\n",
    "\n",
    "ax.set_aspect( 'equal' )"
   ]
  },
  {
   "cell_type": "code",
   "execution_count": null,
   "id": "1335f813-922f-4bf9-b76a-8eea99cffc30",
   "metadata": {},
   "outputs": [],
   "source": [
    "# On top of each other\n",
    "# Projected\n",
    "fig = plt.figure()\n",
    "ax = plt.gca()\n",
    "\n",
    "img = ax.pcolormesh(\n",
    "    ys_zoom,\n",
    "    zs_zoom,\n",
    "    np.rot90( coldens_zoom, k=-1 ),\n",
    "    norm = colden_norm,\n",
    ")\n",
    "\n",
    "img = ax.pcolormesh(\n",
    "    ys_zoom,\n",
    "    zs_zoom,\n",
    "    np.rot90( hist_zoom_imgs[-1], k=-1 ),\n",
    "    norm = colden_norm,\n",
    "    cmap = 'plasma',\n",
    ")\n",
    "\n",
    "# Add colorbar\n",
    "divider = make_axes_locatable( ax )\n",
    "cax = divider.append_axes(\"right\", size=\"5%\", pad='2%')\n",
    "plt.colorbar( img, cax=cax )\n",
    "\n",
    "ax.set_aspect( 'equal' )"
   ]
  },
  {
   "cell_type": "markdown",
   "id": "658632e2-830d-499a-a2f9-b2edb0a342ad",
   "metadata": {},
   "source": [
    "## EW Images"
   ]
  },
  {
   "cell_type": "code",
   "execution_count": null,
   "id": "6ce46612-bcee-4371-a0b5-765ad5ef5561",
   "metadata": {},
   "outputs": [],
   "source": [
    "# Projected\n",
    "fig = plt.figure()\n",
    "ax = plt.gca()\n",
    "\n",
    "ax.pcolormesh(\n",
    "    ys,\n",
    "    zs,\n",
    "    np.rot90( EWs, k=-1 ),\n",
    "    norm = norm,\n",
    ")\n",
    "\n",
    "ax.set_aspect( 'equal' )"
   ]
  },
  {
   "cell_type": "code",
   "execution_count": null,
   "id": "fe3e78fc-7738-49b4-a174-b68c9b2c9fd6",
   "metadata": {},
   "outputs": [],
   "source": [
    "# Projected\n",
    "fig = plt.figure()\n",
    "ax = plt.gca()\n",
    "\n",
    "ax.pcolormesh(\n",
    "    ys_zoom,\n",
    "    zs_zoom,\n",
    "    np.rot90( EWs_zoom, k=-1 ),\n",
    "    norm = norm,\n",
    ")\n",
    "\n",
    "ax.set_aspect( 'equal' )"
   ]
  },
  {
   "cell_type": "markdown",
   "id": "ff644942-3a8c-4975-94ec-eb14cff5660d",
   "metadata": {},
   "source": [
    "## Publication-Quality Image"
   ]
  },
  {
   "cell_type": "code",
   "execution_count": null,
   "id": "30a67192-c1fc-4861-9aa2-a2a30f7aa933",
   "metadata": {},
   "outputs": [],
   "source": [
    "# Projected\n",
    "fig = plt.figure(figsize=(figure_width*2,figure_width), facecolor='w')\n",
    "main_ax = plt.gca()\n",
    "main_ax.set_axis_off()\n",
    "axs = fig.subplot_mosaic(\n",
    "    mosaic = [ [ 'full', 'zoom' ] ],\n",
    ")\n",
    "\n",
    "# Full image\n",
    "axs['full'].pcolormesh(\n",
    "    ys,\n",
    "    zs,\n",
    "    np.rot90( EWs ),\n",
    "    norm = norm,\n",
    "    cmap = cmap,\n",
    ")\n",
    "\n",
    "# Add inset box\n",
    "rectangle_path, connector_lines = axs['full'].indicate_inset(\n",
    "    bounds = [ zoom_yrange_kpc[0], zoom_zrange_kpc[0], zoom_yrange_kpc[1] - zoom_yrange_kpc[0], zoom_zrange_kpc[1] - zoom_zrange_kpc[0] ],\n",
    "    inset_ax = axs['zoom'],\n",
    "    edgecolor = '0.5',\n",
    "    linewidth = 3,\n",
    "    alpha = 1,\n",
    ")\n",
    "for line in connector_lines:\n",
    "    line.set_linewidth( 3 )\n",
    "\n",
    "# Zoom-in\n",
    "EWs_zoom_img = axs['zoom'].pcolormesh(\n",
    "    -ys_zoom,\n",
    "    zs_zoom,\n",
    "    np.rot90( EWs_zoom, k=-1 ),\n",
    "    norm = norm,\n",
    "    cmap = cmap,\n",
    ")\n",
    "\n",
    "# Add colorbar\n",
    "divider = make_axes_locatable( axs['zoom'] )\n",
    "cax = divider.append_axes(\"right\", size=\"5%\", pad='2%')\n",
    "plt.colorbar( EWs_zoom_img, cax=cax )\n",
    "\n",
    "# Add annotation\n",
    "cax.annotate(\n",
    "    text = 'Na I EW [$\\AA$]',\n",
    "    xy = ( 1, 1 ),\n",
    "    xycoords = 'axes fraction',\n",
    "    xytext = ( 0, 5 ),\n",
    "    textcoords = 'offset points',\n",
    "    ha = 'right',\n",
    "    va = 'bottom',\n",
    "    fontsize = normal_fontsize,\n",
    ")\n",
    "\n",
    "# Loop through to add a few things\n",
    "scalebar_sizes = {\n",
    "    'full': 10,\n",
    "    'zoom': 1,\n",
    "}\n",
    "for ax_key, ax in axs.items():\n",
    "    \n",
    "    # Tick marks\n",
    "    ax.tick_params( left=False, labelleft=False, bottom=False, labelbottom=False )\n",
    "    \n",
    "    # Aspect ratio\n",
    "    ax.set_aspect( 'equal' )\n",
    "    \n",
    "    # Scalebar\n",
    "    scalebar = AnchoredSizeBar(\n",
    "        ax.transData,\n",
    "        scalebar_sizes[ax_key],\n",
    "        '{} kpc'.format( scalebar_sizes[ax_key] ),\n",
    "        'lower center',\n",
    "        pad=0.5,\n",
    "        color='white',\n",
    "        frameon=False,\n",
    "        size_vertical = scalebar_sizes[ax_key] / 50,\n",
    "        fontproperties = fontproperties,\n",
    "    )\n",
    "\n",
    "    ax.add_artist(scalebar)\n",
    "    \n",
    "plt.tight_layout()"
   ]
  },
  {
   "cell_type": "code",
   "execution_count": null,
   "id": "c230e6c1-5773-4849-b6ea-8721ee5be09a",
   "metadata": {},
   "outputs": [],
   "source": [
    "fig.savefig( './visuals_pngs/polished.png', dpi=300 )"
   ]
  },
  {
   "cell_type": "markdown",
   "id": "5d2fc652-d223-48c0-8c51-697dc98b410e",
   "metadata": {},
   "source": [
    "# TPCF"
   ]
  },
  {
   "cell_type": "code",
   "execution_count": null,
   "id": "da70dffd-29cd-4622-9aad-db6aa325f67e",
   "metadata": {},
   "outputs": [],
   "source": [
    "assert False, 'Not fully implemented yet..'"
   ]
  },
  {
   "cell_type": "code",
   "execution_count": null,
   "id": "0097dcce-467f-4c7a-8871-4a1aac8c5890",
   "metadata": {},
   "outputs": [],
   "source": [
    "def _dsun( field, data ):\n",
    "    return data[\"gas\", \"Coordinates\"] - \n",
    "        (data.ds.gamma - 1.0)\n",
    "        * data[\"gas\", \"density\"]\n",
    "        * data[\"gas\", \"specific_thermal_energy\"]\n",
    "    )"
   ]
  },
  {
   "cell_type": "markdown",
   "id": "7df0c1b8-b4ac-413c-ac6a-52effcf889b9",
   "metadata": {},
   "source": [
    "## Calculate weighted TPCF"
   ]
  },
  {
   "cell_type": "code",
   "execution_count": null,
   "id": "f35499cb-fb44-4c93-9791-c0123ff58d72",
   "metadata": {},
   "outputs": [],
   "source": [
    "import stained_glass.stats"
   ]
  },
  {
   "cell_type": "code",
   "execution_count": null,
   "id": "47f91ae6-0878-4823-93ee-7240d489424b",
   "metadata": {},
   "outputs": [],
   "source": [
    "y_mesh, z_mesh = np.meshgrid( ys, zs )\n",
    "coords = np.array([ y_mesh.flatten(), z_mesh.flatten(), ]).transpose()\n",
    "weights = EWs.flatten()"
   ]
  },
  {
   "cell_type": "code",
   "execution_count": null,
   "id": "90f8a5e0-61c2-4c62-8d60-8d6b1dc7499c",
   "metadata": {},
   "outputs": [],
   "source": [
    "# Toss out non-detections\n",
    "is_detectable = weights > EW_min\n",
    "coords = coords[is_detectable]\n",
    "weights = weights[is_detectable]"
   ]
  },
  {
   "cell_type": "code",
   "execution_count": null,
   "id": "980a5a10-d01d-4357-b577-363babbc4682",
   "metadata": {},
   "outputs": [],
   "source": [
    "edges = np.logspace( -2, np.log10( zoom_width ) )\n",
    "tpcf, edges, info = stained_glass.stats.weighted_tpcf(\n",
    "    coords,\n",
    "    weights = weights,\n",
    "    edges = edges,\n",
    "    return_info = True,\n",
    ")"
   ]
  },
  {
   "cell_type": "code",
   "execution_count": null,
   "id": "19fe165a-1a6a-4c07-8dcc-27a0caa4e4fa",
   "metadata": {},
   "outputs": [],
   "source": [
    "centers = 0.5 * ( edges[:-1] + edges[1:] )"
   ]
  },
  {
   "cell_type": "code",
   "execution_count": null,
   "id": "22296431-9eaa-4259-a6d4-ca978402e758",
   "metadata": {},
   "outputs": [],
   "source": [
    "# Characteristic cloud size\n",
    "interp_fn = scipy.interpolate.interp1d( tpcf, centers )\n",
    "l_cloud = interp_fn( 0.5 )"
   ]
  },
  {
   "cell_type": "code",
   "execution_count": null,
   "id": "87fe5dae-a1fd-4bcd-b18a-7e354604db3e",
   "metadata": {},
   "outputs": [],
   "source": [
    "fig = plt.figure()\n",
    "ax = plt.gca()\n",
    "\n",
    "ax.plot(\n",
    "    centers,\n",
    "    tpcf,\n",
    "    color = 'k',\n",
    "    linewidth = 1.5,\n",
    ")\n",
    "\n",
    "# Characteristic cloud size\n",
    "ax.axvline(\n",
    "    l_cloud,\n",
    "    color = 'k',\n",
    "    linewidth = 1,\n",
    "    linestyle = '--',\n",
    ")\n",
    "ax.axhline(\n",
    "    0,\n",
    "    color = '0.9',\n",
    "    zorder = -10,\n",
    ")\n",
    "\n",
    "ax.set_xscale( 'log' )\n",
    "ax.set_ylim( -1, 1 )\n",
    "ax.set_xlim( centers[0], centers[-1] )"
   ]
  },
  {
   "cell_type": "code",
   "execution_count": null,
   "id": "952f6d56-9c9c-4245-948c-93cd8f59bfb7",
   "metadata": {},
   "outputs": [],
   "source": []
  }
 ],
 "metadata": {
  "kernelspec": {
   "display_name": "Python 3 (ipykernel)",
   "language": "python",
   "name": "python3"
  },
  "language_info": {
   "codemirror_mode": {
    "name": "ipython",
    "version": 3
   },
   "file_extension": ".py",
   "mimetype": "text/x-python",
   "name": "python",
   "nbconvert_exporter": "python",
   "pygments_lexer": "ipython3",
   "version": "3.10.4"
  }
 },
 "nbformat": 4,
 "nbformat_minor": 5
}
