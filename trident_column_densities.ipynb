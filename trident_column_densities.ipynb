{
 "cells": [
  {
   "cell_type": "markdown",
   "id": "0c36fc05",
   "metadata": {},
   "source": [
    "# Set Up"
   ]
  },
  {
   "cell_type": "code",
   "execution_count": null,
   "id": "8fac152a",
   "metadata": {},
   "outputs": [],
   "source": [
    "import numpy as np\n",
    "import matplotlib\n",
    "import matplotlib.pyplot as plt\n",
    "import scipy\n",
    "import yt\n",
    "import pandas as pd\n",
    "import trident as tr\n",
    "from trident.absorption_spectrum.absorption_line import tau_profile\n",
    "from linetools.lists.linelist import LineList"
   ]
  },
  {
   "cell_type": "code",
   "execution_count": null,
   "id": "36ec2401-d6c1-4f0d-bd19-a8fe47a04836",
   "metadata": {},
   "outputs": [],
   "source": [
    "from linetools.analysis import absline\n",
    "import astropy.units as u"
   ]
  },
  {
   "cell_type": "markdown",
   "id": "b96a07eb-a747-4464-aa80-324f52ed9983",
   "metadata": {},
   "source": [
    "# Parameters"
   ]
  },
  {
   "cell_type": "code",
   "execution_count": null,
   "id": "c420ca17-e4be-456a-9147-0dba3f291a47",
   "metadata": {},
   "outputs": [],
   "source": [
    "# Location of the target snapshot\n",
    "simulation_fp = '/Users/zhafen/data/fire/fire2/m12i_res7100_md/output/snapdir_600/snapshot_600.0.hdf5'\n",
    "\n",
    "# Location of the halo file if provided. If use_halo_file == False then the center will be found automatically.\n",
    "use_halo_file = False\n",
    "halo_catalog_fp = None\n",
    "\n",
    "# Location and width of zoom in kpc\n",
    "zoom_center = [ 1., 1. ]\n",
    "zoom_width = 2.\n",
    "n_default = 800\n",
    "\n",
    "# Obs choices\n",
    "EW_min = 0.01\n",
    "b_default = 30. # In km/s"
   ]
  },
  {
   "cell_type": "markdown",
   "id": "a20f4a75-0a0f-4d41-bac1-00acce0e3186",
   "metadata": {},
   "source": [
    "# Load Data"
   ]
  },
  {
   "cell_type": "code",
   "execution_count": null,
   "id": "00c857b0",
   "metadata": {},
   "outputs": [],
   "source": [
    "np.set_printoptions(precision=20)"
   ]
  },
  {
   "cell_type": "code",
   "execution_count": null,
   "id": "8212f83a",
   "metadata": {},
   "outputs": [],
   "source": [
    "ds = yt.load( simulation_fp )"
   ]
  },
  {
   "cell_type": "code",
   "execution_count": null,
   "id": "f0dbd5e4",
   "metadata": {},
   "outputs": [],
   "source": [
    "data = ds.all_data()"
   ]
  },
  {
   "cell_type": "code",
   "execution_count": null,
   "id": "1c8ddfec",
   "metadata": {},
   "outputs": [],
   "source": [
    "tr.add_ion_fields( ds, ions=['O VI','C IV', 'Si II', 'Mg II','Na I'],)"
   ]
  },
  {
   "cell_type": "markdown",
   "id": "54ee4003",
   "metadata": {},
   "source": [
    "## The Center of Galaxy Using Halo Data"
   ]
  },
  {
   "cell_type": "code",
   "execution_count": null,
   "id": "22781218-181f-4c21-832c-0570d503d290",
   "metadata": {},
   "outputs": [],
   "source": [
    "kpc = ds.quan( 1, 'kpc' )"
   ]
  },
  {
   "cell_type": "code",
   "execution_count": null,
   "id": "bb1b42a3",
   "metadata": {},
   "outputs": [],
   "source": [
    "if use_halo_file:\n",
    "    import h5py\n",
    "    f = h5py.File( halo_catalog_fp, 'r' ) #f is a dictionary, so you can do f.keys()\n",
    "    index = f['mass'][...].argmax() \n",
    "\n",
    "    #... means indexing all of it, because HDF5 doesn't show you everything unless you ask for it\n",
    "    #.argmax() gets the index of maximum.\n",
    "    #maximum mass is center because host galaxy is the one in the center so it should have the most mass.\n",
    "\n",
    "    center_ckpc = f['position'][...][index]\n",
    "    #the actual code to bring it to modern day, getting physical distance, is below. \n",
    "    #not used because error but f[redshift] is 0 so it's basically center_ckpc\n",
    "\n",
    "    center = center_ckpc / ( 1. + f['snapshot:redshift'][...] )\n",
    "\n",
    "    center_kpc=center*kpc\n",
    "else:\n",
    "    print( 'Finding center using maximum density' )\n",
    "    _, center = ds.find_max( ('gas', 'density') )\n",
    "    center_kpc = center.to( 'kpc' )"
   ]
  },
  {
   "cell_type": "markdown",
   "id": "afb7edd1",
   "metadata": {},
   "source": [
    "## Making the Sun the Origin Using Vector Math"
   ]
  },
  {
   "cell_type": "code",
   "execution_count": null,
   "id": "aa2d7955",
   "metadata": {},
   "outputs": [],
   "source": [
    "gas_coordinates = (data[('PartType0', 'Coordinates')]).in_units(\"kpc\")"
   ]
  },
  {
   "cell_type": "markdown",
   "id": "025767ea",
   "metadata": {},
   "source": [
    "### First need to filter out really far star particles that are not in the galaxy"
   ]
  },
  {
   "cell_type": "code",
   "execution_count": null,
   "id": "92f48eae",
   "metadata": {},
   "outputs": [],
   "source": [
    "#apply distance formula from each star coordinate to the center. if <150 kpc, it is within a good range.\n",
    "distance_to_center=np.sqrt( (gas_coordinates[:,0]-center_kpc[0] )**2 + (gas_coordinates[:,1]-center_kpc[1])**2 +(gas_coordinates[:,2]-center_kpc[2])**2 )\n",
    "\n",
    "within_range = distance_to_center < (150.*kpc)\n",
    "galaxy_gas = gas_coordinates[within_range]\n"
   ]
  },
  {
   "cell_type": "markdown",
   "id": "418fb5f3",
   "metadata": {},
   "source": [
    "### Then do vector math, applying refined list of star coordinates"
   ]
  },
  {
   "cell_type": "code",
   "execution_count": null,
   "id": "3a2fdb77",
   "metadata": {},
   "outputs": [],
   "source": [
    "# Get dataset units\n",
    "kpc = ds.quan( 1, 'kpc' )\n",
    "\n",
    "# Calculate the angular momentum (extracting a sphere around the galaxy first for it).\n",
    "# `center` is the center of the galaxy in kpc.\n",
    "sp = ds.sphere( center_kpc , (10, \"kpc\")) #10 is radius\n",
    "jtot = sp.quantities.angular_momentum_vector( particle_type='PartType0' ).to( 'kpc * km / s' ).value\n",
    "\n",
    "# Unit vectors for a frame w/ zhat aligned with the total angular momentum\n",
    "zhat = jtot / np.linalg.norm( jtot ) #basically getting the unit vector by dividing jtot vector by its magnitude\n",
    "\n",
    "#cross product of zhat and some vector to get a vector that's perpendicular to zhat (along galaxy disk):\n",
    "xhat = np.cross( [ 1, 0, 0 ], zhat )\n",
    "xhat /= np.linalg.norm( xhat )\n",
    "\n",
    "# Sun position in simulation coordinates -> 8 kpc from center at an arbitrary angle\n",
    "sun_position = center_kpc + (8. * xhat * kpc)\n",
    "\n",
    "# Unit vectors for on-sky coordinate system.\n",
    "# xskyhat points from the sun to the center of the galaxy.\n",
    "# zskyhat points parallel to the axis of total angular momentum.\n",
    "# yskyhat (should) point to the left on a sky map.\n",
    "xskyhat = -xhat\n",
    "zskyhat = zhat\n",
    "yskyhat = np.cross( zskyhat, xskyhat )\n",
    "\n",
    "# Given a series of positions (the undefined vector)\n",
    "# shift them over, i.e. make a new frame centered on the sun.\n",
    "positions_sun = galaxy_gas - sun_position\n",
    "\n",
    "# And now rotate them to the sky frame\n",
    "positions_sky = np.array([\n",
    "    np.dot( positions_sun, xskyhat ), # Check the axis argument, this may not be right\n",
    "    np.dot( positions_sun, yskyhat ),\n",
    "    np.dot( positions_sun, zskyhat ),\n",
    "    ]).transpose()"
   ]
  },
  {
   "cell_type": "markdown",
   "id": "57a0da25",
   "metadata": {},
   "source": [
    "# Trident Column Density Maps"
   ]
  },
  {
   "cell_type": "code",
   "execution_count": null,
   "id": "87f184b2",
   "metadata": {
    "scrolled": true
   },
   "outputs": [],
   "source": [
    "print(jtot) #in kpc\n",
    "print(xhat*kpc)\n",
    "print(sp.center)"
   ]
  },
  {
   "cell_type": "markdown",
   "id": "d5e7aadf",
   "metadata": {},
   "source": [
    "### A PLOT FOR GAS DENSITY (NO IONS SPECIFIED)"
   ]
  },
  {
   "cell_type": "code",
   "execution_count": null,
   "id": "3de95a53",
   "metadata": {},
   "outputs": [],
   "source": [
    "\"\"\"\n",
    "the normal vector is the distance from the center to the sun along the plane of the galaxy (x axis)\n",
    "the north_vector is jtot, aka zhat. (unit vector of angular momentum vector)\n",
    "\n",
    "\"\"\"\n",
    "\n",
    "prj_off_axis = yt.OffAxisProjectionPlot(\n",
    "    ds,\n",
    "    normal=xhat*kpc,\n",
    "    fields=(\"gas\", \"density\"),\n",
    "    width=(100, \"kpc\"),\n",
    "    center=sp.center, #works bc even tho same as center_kpc, it's in code length units\n",
    "    north_vector=zhat\n",
    ")\n",
    "prj_off_axis.set_xlabel(\"y (kpc)\")\n",
    "prj_off_axis.set_ylabel(\"z (kpc)\")\n",
    "prj_off_axis"
   ]
  },
  {
   "cell_type": "markdown",
   "id": "78d73f80",
   "metadata": {},
   "source": [
    "### Function for column densities of ions"
   ]
  },
  {
   "cell_type": "code",
   "execution_count": null,
   "id": "ffd87717",
   "metadata": {},
   "outputs": [],
   "source": [
    "def yt_column_density_plot(field, width=(100, \"kpc\"), center=sp.center, **kwargs):\n",
    "    \"\"\" \n",
    "    to see trident ion column density, write this for the field argument:\n",
    "    \"<element>_<ionized how many times>_number_density\"\n",
    "    for example, O VI, oxygen ionized 5 times is:\n",
    "    \"O_p5_number_density\"\n",
    "    \n",
    "    \"\"\"\n",
    "\n",
    "    prj_off_axis_column_density = yt.OffAxisProjectionPlot(\n",
    "        ds,\n",
    "        normal=8*xhat*kpc,\n",
    "        fields=field,\n",
    "        width=width,\n",
    "        center=center,\n",
    "        north_vector=zhat,\n",
    "        **kwargs\n",
    "    )\n",
    "    prj_off_axis_column_density.set_xlabel(\"y (kpc)\")\n",
    "    prj_off_axis_column_density.set_ylabel(\"z (kpc)\")\n",
    "    return prj_off_axis_column_density"
   ]
  },
  {
   "cell_type": "code",
   "execution_count": null,
   "id": "150b1bc6",
   "metadata": {},
   "outputs": [],
   "source": [
    "yt_column_density_plot(\"Na_p0_number_density\", width=(40,\"kpc\"))"
   ]
  },
  {
   "cell_type": "code",
   "execution_count": null,
   "id": "41f8d8de",
   "metadata": {
    "tags": []
   },
   "outputs": [],
   "source": [
    "# Na I plot at 60 kpc\n",
    "yt_column_density_plot(\"Na_p0_number_density\", width=(10,\"kpc\"))"
   ]
  },
  {
   "cell_type": "markdown",
   "id": "ce1d549d",
   "metadata": {},
   "source": [
    "### Calculating zoom ins by changing the center before processing the image"
   ]
  },
  {
   "cell_type": "code",
   "execution_count": null,
   "id": "e5bc1672",
   "metadata": {},
   "outputs": [],
   "source": [
    "# new center values:\n",
    "new_center = sp.center + yskyhat * zoom_center[0] * kpc + zskyhat * zoom_center[1] * kpc"
   ]
  },
  {
   "cell_type": "code",
   "execution_count": null,
   "id": "448b2ea4-bbce-48e2-bc52-969c9bbff9a8",
   "metadata": {},
   "outputs": [],
   "source": [
    "# Na I zoomed in 3 kpc above mid line\n",
    "Na_off_center = yt_column_density_plot(\n",
    "    \"Na_p0_number_density\",\n",
    "    width=(zoom_width,\"kpc\"),\n",
    "    center=sp.center,\n",
    "    buff_size=(n_default,n_default)\n",
    ")\n",
    "Na_off_center"
   ]
  },
  {
   "cell_type": "markdown",
   "id": "4d3a4194-a78e-4dfd-8698-cee6b5ee05df",
   "metadata": {},
   "source": [
    "# Equivalent Width Images"
   ]
  },
  {
   "cell_type": "markdown",
   "id": "d4c5862e-19fb-4bcc-b51a-100f35653e02",
   "metadata": {},
   "source": [
    "## Curve of Growth"
   ]
  },
  {
   "cell_type": "markdown",
   "id": "c262b039-20b2-4a60-9f77-a9b5116336dd",
   "metadata": {},
   "source": [
    "### Get range"
   ]
  },
  {
   "cell_type": "code",
   "execution_count": null,
   "id": "754d26cf-1dc1-45a1-82a6-24fa5328af0b",
   "metadata": {},
   "outputs": [],
   "source": [
    "linelist = LineList( 'ISM' )\n",
    "NaI_lines = linelist.all_transitions( (11,1) )\n",
    "transition = NaI_lines['name'][0]"
   ]
  },
  {
   "cell_type": "code",
   "execution_count": null,
   "id": "6f270b83-a8f1-45d3-a24e-1875e2eedc40",
   "metadata": {},
   "outputs": [],
   "source": [
    "colden_min = absline.N_from_Wr_transition( EW_min * u.angstrom, transition ).value"
   ]
  },
  {
   "cell_type": "markdown",
   "id": "f07ff403-30f0-484c-bde4-7f7c625c9479",
   "metadata": {},
   "source": [
    "### Calculate"
   ]
  },
  {
   "cell_type": "code",
   "execution_count": null,
   "id": "4a714f41-3d9d-4b31-9272-d0be90a21f0d",
   "metadata": {},
   "outputs": [],
   "source": [
    "coldens_cog = np.logspace( np.log10( colden_min.value ), 20, 1001 ) * u.cm**-2\n",
    "bs = np.arange( 0., 50, 5., )"
   ]
  },
  {
   "cell_type": "code",
   "execution_count": null,
   "id": "d7c018a5-0304-400a-99ee-0c173186eedd",
   "metadata": {},
   "outputs": [],
   "source": [
    "EWs_cog = []\n",
    "for b in bs:\n",
    "    EWs_b = absline.Wr_from_N_b_transition( coldens_cog, np.full( coldens_cog.shape, b ) * u.km / u.s, transition ).value\n",
    "    EWs_cog.append( EWs_b )"
   ]
  },
  {
   "cell_type": "code",
   "execution_count": null,
   "id": "df8510fc-e939-497d-979b-76c9423f520e",
   "metadata": {},
   "outputs": [],
   "source": [
    "EWs_default = absline.Wr_from_N_b_transition( coldens_cog, np.full( coldens_cog.shape, b_default ) * u.km / u.s, transition ).value"
   ]
  },
  {
   "cell_type": "code",
   "execution_count": null,
   "id": "4dcb105a-ed9a-4718-9625-a8c522f153b5",
   "metadata": {},
   "outputs": [],
   "source": [
    "color_norm = matplotlib.colors.Normalize( vmin=bs[0], vmax=bs[-1] )\n",
    "colormap = matplotlib.colormaps.get( 'viridis' )"
   ]
  },
  {
   "cell_type": "code",
   "execution_count": null,
   "id": "92519b8d-65d2-49f4-b1f5-91a55fd564e5",
   "metadata": {},
   "outputs": [],
   "source": [
    "fig = plt.figure()\n",
    "ax = plt.gca()\n",
    "\n",
    "for i, EWs_b in enumerate( EWs_cog ):\n",
    "    ax.plot(\n",
    "        coldens_cog,\n",
    "        EWs_b,\n",
    "        color = colormap( color_norm( bs[i] ) ),\n",
    "    )\n",
    "    \n",
    "ax.plot(\n",
    "    coldens_cog,\n",
    "    EWs_default,\n",
    "    color = 'k',\n",
    ")\n",
    "\n",
    "ax.set_xlabel( r'$N_{Na\\,I}$ [cm$^{-2}$]' )\n",
    "ax.set_ylabel( r'EW [$\\AA$]' )\n",
    "\n",
    "ax.set_xscale( 'log' )\n",
    "ax.set_yscale( 'log' )"
   ]
  },
  {
   "cell_type": "markdown",
   "id": "7a512926-785b-4669-b446-b14dd2e7b591",
   "metadata": {},
   "source": [
    "### Create interpolation function"
   ]
  },
  {
   "cell_type": "code",
   "execution_count": null,
   "id": "f08ea38c-5d59-4294-a912-0f3d1bb7ddd2",
   "metadata": {},
   "outputs": [],
   "source": [
    "EW_interp_fn = scipy.interpolate.interp1d( coldens_cog, EWs_default )"
   ]
  },
  {
   "cell_type": "markdown",
   "id": "634976a0-39d7-46ef-8e13-ac10bbfcb86c",
   "metadata": {},
   "source": [
    "## Plot Equivalent Widths"
   ]
  },
  {
   "cell_type": "code",
   "execution_count": null,
   "id": "5de74274-9c48-4276-ba34-d893ad0bd61c",
   "metadata": {},
   "outputs": [],
   "source": [
    "# Convert to EW\n",
    "coldens = Na_off_center.frb[Na_off_center.fields[0]].value\n",
    "coldens[coldens<colden_min] = colden_min\n",
    "EWs = EW_interp_fn( coldens )"
   ]
  },
  {
   "cell_type": "code",
   "execution_count": null,
   "id": "f8656300-75b1-48c4-84c6-a7df437be8ff",
   "metadata": {},
   "outputs": [],
   "source": [
    "side_mins = np.array( zoom_center ) - zoom_width/2.\n",
    "side_maxs = np.array( zoom_center ) + zoom_width/2.\n",
    "ys = np.linspace( side_maxs[0], side_mins[0], n_default )\n",
    "zs = np.linspace( side_mins[1], side_maxs[1], n_default )"
   ]
  },
  {
   "cell_type": "code",
   "execution_count": null,
   "id": "b9e1d9d0-1d42-4b1f-b816-b37ac3932b00",
   "metadata": {},
   "outputs": [],
   "source": [
    "EWs_masked = np.ma.masked_where(EWs <= EW_min, EWs)"
   ]
  },
  {
   "cell_type": "code",
   "execution_count": null,
   "id": "9bc97b50-d799-4029-a2f8-cb9fc13a788e",
   "metadata": {},
   "outputs": [],
   "source": [
    "fig = plt.figure(figsize=(8,8), facecolor='w' )\n",
    "ax = plt.gca()\n",
    "\n",
    "pcolor = ax.pcolormesh(\n",
    "    ys,\n",
    "    zs,\n",
    "    EWs_masked,\n",
    "    norm = matplotlib.colors.LogNorm(EW_min,EWs.max()),\n",
    ")\n",
    "\n",
    "ax.set_aspect( 'equal' )\n",
    "\n",
    "ax.set_xlabel( 'x (kpc; galactocentric)', fontsize = 14, )\n",
    "ax.set_ylabel( 'y (kpc; galactocentric)', fontsize = 14, )\n",
    "ax.annotate(\n",
    "    text = 'Na I\\n' + r'EW ($\\AA$)',\n",
    "    xy = ( 1, 1 ),\n",
    "    xycoords = 'axes fraction',\n",
    "    xytext = ( 5, -5 ),\n",
    "    textcoords = 'offset points',\n",
    "    va = 'top',\n",
    "    fontsize = 14,\n",
    ")\n",
    "\n",
    "fig.colorbar( pcolor, ax=ax, location='right', anchor=(0, 0.3), shrink=0.7)"
   ]
  },
  {
   "cell_type": "markdown",
   "id": "7df0c1b8-b4ac-413c-ac6a-52effcf889b9",
   "metadata": {},
   "source": [
    "## Calculate weighted TPCF"
   ]
  },
  {
   "cell_type": "code",
   "execution_count": null,
   "id": "f35499cb-fb44-4c93-9791-c0123ff58d72",
   "metadata": {},
   "outputs": [],
   "source": [
    "import stained_glass.stats"
   ]
  },
  {
   "cell_type": "code",
   "execution_count": null,
   "id": "47f91ae6-0878-4823-93ee-7240d489424b",
   "metadata": {},
   "outputs": [],
   "source": [
    "y_mesh, z_mesh = np.meshgrid( ys, zs )\n",
    "coords = np.array([ y_mesh.flatten(), z_mesh.flatten(), ]).transpose()\n",
    "weights = EWs.flatten()"
   ]
  },
  {
   "cell_type": "code",
   "execution_count": null,
   "id": "90f8a5e0-61c2-4c62-8d60-8d6b1dc7499c",
   "metadata": {},
   "outputs": [],
   "source": [
    "# Toss out non-detections\n",
    "is_detectable = weights > EW_min\n",
    "coords = coords[is_detectable]"
   ]
  },
  {
   "cell_type": "code",
   "execution_count": null,
   "id": "980a5a10-d01d-4357-b577-363babbc4682",
   "metadata": {},
   "outputs": [],
   "source": [
    "edges = np.logspace( -2, np.log10( zoom_width ) )\n",
    "tpcf, edges, info = stained_glass.stats.weighted_tpcf(\n",
    "    coords,\n",
    "    weights = EWs.flatten(),\n",
    "    edges = edges,\n",
    "    return_info = True,\n",
    ")"
   ]
  },
  {
   "cell_type": "code",
   "execution_count": null,
   "id": "19fe165a-1a6a-4c07-8dcc-27a0caa4e4fa",
   "metadata": {},
   "outputs": [],
   "source": [
    "centers = 0.5 * ( edges[:-1] + edges[1:] )"
   ]
  },
  {
   "cell_type": "code",
   "execution_count": null,
   "id": "22296431-9eaa-4259-a6d4-ca978402e758",
   "metadata": {},
   "outputs": [],
   "source": [
    "# Characteristic cloud size\n",
    "interp_fn = scipy.interpolate.interp1d( tpcf, centers )\n",
    "l_cloud = interp_fn( 0.5 )"
   ]
  },
  {
   "cell_type": "code",
   "execution_count": null,
   "id": "87fe5dae-a1fd-4bcd-b18a-7e354604db3e",
   "metadata": {},
   "outputs": [],
   "source": [
    "fig = plt.figure()\n",
    "ax = plt.gca()\n",
    "\n",
    "ax.plot(\n",
    "    centers,\n",
    "    tpcf,\n",
    "    color = 'k',\n",
    "    linewidth = 1.5,\n",
    ")\n",
    "\n",
    "# Characteristic cloud size\n",
    "ax.axvline(\n",
    "    l_cloud,\n",
    "    color = 'k',\n",
    "    linewidth = 1,\n",
    "    linestyle = '--',\n",
    ")\n",
    "ax.axhline(\n",
    "    0,\n",
    "    color = '0.9',\n",
    "    zorder = -10,\n",
    ")\n",
    "\n",
    "ax.set_xscale( 'log' )\n",
    "ax.set_ylim( -1, 1 )\n",
    "ax.set_xlim( centers[0], centers[-1] )"
   ]
  },
  {
   "cell_type": "code",
   "execution_count": null,
   "id": "952f6d56-9c9c-4245-948c-93cd8f59bfb7",
   "metadata": {},
   "outputs": [],
   "source": []
  }
 ],
 "metadata": {
  "kernelspec": {
   "display_name": "Python 3 (ipykernel)",
   "language": "python",
   "name": "python3"
  },
  "language_info": {
   "codemirror_mode": {
    "name": "ipython",
    "version": 3
   },
   "file_extension": ".py",
   "mimetype": "text/x-python",
   "name": "python",
   "nbconvert_exporter": "python",
   "pygments_lexer": "ipython3",
   "version": "3.10.4"
  }
 },
 "nbformat": 4,
 "nbformat_minor": 5
}
